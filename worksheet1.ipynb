{
  "nbformat": 4,
  "nbformat_minor": 0,
  "metadata": {
    "colab": {
      "provenance": []
    },
    "kernelspec": {
      "name": "python3",
      "display_name": "Python 3"
    },
    "language_info": {
      "name": "python"
    }
  },
  "cells": [
    {
      "cell_type": "markdown",
      "source": [
        "1. Initialize an empty array with size 2X2.\n"
      ],
      "metadata": {
        "id": "ODU0k9v--KJi"
      }
    },
    {
      "cell_type": "code",
      "source": [
        "import numpy as np\n",
        "arr= np.random.randint(0,1,(2,2))\n",
        "print(arr)"
      ],
      "metadata": {
        "colab": {
          "base_uri": "https://localhost:8080/"
        },
        "id": "-d_4nP_H_mvc",
        "outputId": "50329cc2-e5eb-4345-d7d6-129b1fa12149"
      },
      "execution_count": null,
      "outputs": [
        {
          "output_type": "stream",
          "name": "stdout",
          "text": [
            "[[0 0]\n",
            " [0 0]]\n"
          ]
        }
      ]
    },
    {
      "cell_type": "markdown",
      "source": [
        "2. Initialize an all one array with size 4X2."
      ],
      "metadata": {
        "id": "3tkdUNURAE3z"
      }
    },
    {
      "cell_type": "code",
      "source": [
        "import numpy as np\n",
        "import random\n",
        "arr= np.random.randint(1,2,(4,2))\n",
        "print(arr)"
      ],
      "metadata": {
        "colab": {
          "base_uri": "https://localhost:8080/"
        },
        "id": "ZWJC7vBYAHW3",
        "outputId": "c99db4ee-4ab3-4abe-adb3-278ab273784d"
      },
      "execution_count": null,
      "outputs": [
        {
          "output_type": "stream",
          "name": "stdout",
          "text": [
            "[[1 1]\n",
            " [1 1]\n",
            " [1 1]\n",
            " [1 1]]\n"
          ]
        }
      ]
    },
    {
      "cell_type": "markdown",
      "source": [
        "3. Return a new array of given shape and type, filled with fill value.{Hint: np.full}"
      ],
      "metadata": {
        "id": "PhWduAQlAiuO"
      }
    },
    {
      "cell_type": "code",
      "source": [
        "import numpy as np\n",
        "filled_array = np.full((3, 3),fill_value= 7)\n",
        "print(filled_array)"
      ],
      "metadata": {
        "colab": {
          "base_uri": "https://localhost:8080/"
        },
        "id": "ngT7IuUOAkuM",
        "outputId": "af222d42-380b-4eea-8f7e-dca9bf2c24d4"
      },
      "execution_count": null,
      "outputs": [
        {
          "output_type": "stream",
          "name": "stdout",
          "text": [
            "[[7 7 7]\n",
            " [7 7 7]\n",
            " [7 7 7]]\n"
          ]
        }
      ]
    },
    {
      "cell_type": "markdown",
      "source": [
        "4. Return a new array of zeros with same shape and type as a given array.{Hint: np.zeros like}\n"
      ],
      "metadata": {
        "id": "cfFocqOKAqpI"
      }
    },
    {
      "cell_type": "code",
      "source": [
        "import numpy as np\n",
        "zeros_like=np.zeros_like(filled_array)\n",
        "print(zeros_like)"
      ],
      "metadata": {
        "id": "SepM87Y2Ar3Y",
        "colab": {
          "base_uri": "https://localhost:8080/"
        },
        "outputId": "6cf676db-8ae1-4460-9886-bc2cdac62625"
      },
      "execution_count": null,
      "outputs": [
        {
          "output_type": "stream",
          "name": "stdout",
          "text": [
            "[[0 0 0]\n",
            " [0 0 0]\n",
            " [0 0 0]]\n"
          ]
        }
      ]
    },
    {
      "cell_type": "markdown",
      "source": [
        "Return a new array of ones with same shape and type as a given array.{Hint: np.ones like}"
      ],
      "metadata": {
        "id": "pSBZKNGYBfO0"
      }
    },
    {
      "cell_type": "code",
      "source": [
        "import numpy as np\n",
        "ones_like = np.ones_like(filled_array)\n",
        "print(ones_like)"
      ],
      "metadata": {
        "colab": {
          "base_uri": "https://localhost:8080/"
        },
        "id": "1LTO2AhHBjg5",
        "outputId": "a79a4bad-0db7-4a3a-bbb2-69ab877deeac"
      },
      "execution_count": null,
      "outputs": [
        {
          "output_type": "stream",
          "name": "stdout",
          "text": [
            "[[1 1 1]\n",
            " [1 1 1]\n",
            " [1 1 1]]\n"
          ]
        }
      ]
    },
    {
      "cell_type": "markdown",
      "source": [
        "For an existing list new_list = [1,2,3,4] convert to an numpy array.{Hint: np.array()}"
      ],
      "metadata": {
        "id": "Caz95p5fB7Lr"
      }
    },
    {
      "cell_type": "code",
      "source": [
        "import numpy as np\n",
        "new_list = [1,2,3,4]\n",
        "new_array = np.array(new_list)\n",
        "print(new_array)"
      ],
      "metadata": {
        "colab": {
          "base_uri": "https://localhost:8080/"
        },
        "id": "l6CnbHx0B9zE",
        "outputId": "99f0d277-5cf7-436e-f110-d7cfcd114279"
      },
      "execution_count": null,
      "outputs": [
        {
          "output_type": "stream",
          "name": "stdout",
          "text": [
            "[1 2 3 4]\n"
          ]
        }
      ]
    },
    {
      "cell_type": "markdown",
      "source": [
        "Problem - 2:\n",
        "1. Create an array with values ranging from 10 to 49. {Hint:np.arrange()}."
      ],
      "metadata": {
        "id": "Qyu8Mc7XCvB9"
      }
    },
    {
      "cell_type": "code",
      "source": [
        "import numpy as np\n",
        "array_10_to_49 = np.arange(10, 50)\n",
        "print(array_10_to_49)"
      ],
      "metadata": {
        "colab": {
          "base_uri": "https://localhost:8080/"
        },
        "id": "FkxTxfkXC2CI",
        "outputId": "1253ff5b-8bb0-4094-a3c0-f7e43915eb32"
      },
      "execution_count": null,
      "outputs": [
        {
          "output_type": "stream",
          "name": "stdout",
          "text": [
            "[10 11 12 13 14 15 16 17 18 19 20 21 22 23 24 25 26 27 28 29 30 31 32 33\n",
            " 34 35 36 37 38 39 40 41 42 43 44 45 46 47 48 49]\n"
          ]
        }
      ]
    },
    {
      "cell_type": "markdown",
      "source": [
        "Create a 3X3 matrix with values ranging from 0 to 8.\n",
        "{Hint:look for np.reshape()}"
      ],
      "metadata": {
        "id": "9SLWBsYHC7pw"
      }
    },
    {
      "cell_type": "code",
      "source": [
        "import numpy as np\n",
        "array_0_8= np.reshape((np.arange(0,9)),(3,3))\n",
        "print(array_0_8)"
      ],
      "metadata": {
        "colab": {
          "base_uri": "https://localhost:8080/"
        },
        "id": "KNWqWqJxC-QR",
        "outputId": "362c4926-f31b-4685-bf0b-1f58a281a1c0"
      },
      "execution_count": null,
      "outputs": [
        {
          "output_type": "stream",
          "name": "stdout",
          "text": [
            "[[0 1 2]\n",
            " [3 4 5]\n",
            " [6 7 8]]\n"
          ]
        }
      ]
    },
    {
      "cell_type": "markdown",
      "source": [
        "3. Create a 3X3 identity matrix.{Hint:np.eye()}"
      ],
      "metadata": {
        "id": "VUPdoWMCDFE8"
      }
    },
    {
      "cell_type": "code",
      "source": [
        "import numpy as np\n",
        "id_matrix = np.eye(3)\n",
        "print(id_matrix)"
      ],
      "metadata": {
        "colab": {
          "base_uri": "https://localhost:8080/"
        },
        "id": "CdGoDrrEDFxq",
        "outputId": "e12af92a-dd67-44ff-eb30-8038cdce0a09"
      },
      "execution_count": null,
      "outputs": [
        {
          "metadata": {
            "tags": null
          },
          "name": "stdout",
          "output_type": "stream",
          "text": [
            "[[1. 0. 0.]\n",
            " [0. 1. 0.]\n",
            " [0. 0. 1.]]\n"
          ]
        }
      ]
    },
    {
      "cell_type": "markdown",
      "source": [
        "4. Create a random array of size 30 and find the mean of the array.\n",
        "{Hint:check for np.random.random() and array.mean() function}"
      ],
      "metadata": {
        "id": "qfKoRpvrDITY"
      }
    },
    {
      "cell_type": "code",
      "source": [
        "import numpy as np\n",
        "random_array = np.random.rand(30)\n",
        "mean_arr = random_array.mean()\n",
        "print(mean_arr)"
      ],
      "metadata": {
        "colab": {
          "base_uri": "https://localhost:8080/"
        },
        "id": "HQcmq7TZDUo4",
        "outputId": "3b3a4704-98af-4232-dc3b-7e12cb7b3c3d"
      },
      "execution_count": null,
      "outputs": [
        {
          "output_type": "stream",
          "name": "stdout",
          "text": [
            "0.5219407939567698\n",
            "0.5560372593009751\n",
            "0.524291858897438\n"
          ]
        }
      ]
    },
    {
      "cell_type": "markdown",
      "source": [
        "5. Create a 10X10 array with random values and find the minimum and maximum values."
      ],
      "metadata": {
        "id": "V_3asypMDhp3"
      }
    },
    {
      "cell_type": "code",
      "source": [
        "import numpy as np\n",
        "array = np.random.randint(1,100,size=(10,10))\n",
        "min_val = array.min()\n",
        "max_val = array.max()\n",
        "print(\"The random elements array is: \",array)\n",
        "print(\"The min value of the matrix is:\",min_val)\n",
        "print(\"The max value of the matrix is:\",max_val)"
      ],
      "metadata": {
        "colab": {
          "base_uri": "https://localhost:8080/"
        },
        "id": "XNXp1KSZDiqQ",
        "outputId": "762739ac-a33d-433e-c437-a6a57a6380f8"
      },
      "execution_count": null,
      "outputs": [
        {
          "output_type": "stream",
          "name": "stdout",
          "text": [
            "The random elements array is:  [[ 3 76  4 37 66 11 85  4 84 34]\n",
            " [89 83  8 99  4 44 48 48 40 58]\n",
            " [54 44 70  5 55 84 64 28 57 26]\n",
            " [64 95 51  2 97  2 68 24 23 91]\n",
            " [20 28 84 67 79 69 77 40 65 16]\n",
            " [78  8 32 78 16 84 93 17 93 96]\n",
            " [72  9  3 74 91 82 59 41 52 72]\n",
            " [10 43 17 94 93  8 15 69 24 36]\n",
            " [68 98 67 89 56 49 19 56 33 73]\n",
            " [66 38  5 41 85 11 65 34 66 44]]\n",
            "The min value of the matrix is: 2\n",
            "The max value of the matrix is: 99\n"
          ]
        }
      ]
    },
    {
      "cell_type": "markdown",
      "source": [
        "6. Create a zero array of size 10 and replace 5th element with 1."
      ],
      "metadata": {
        "id": "_DvnO71tDsrz"
      }
    },
    {
      "cell_type": "code",
      "source": [
        "import numpy as np\n",
        "array = np.zeros((10,10))\n",
        "print(array)\n",
        "array[0][4]= 1\n",
        "print(array)"
      ],
      "metadata": {
        "colab": {
          "base_uri": "https://localhost:8080/"
        },
        "id": "LU5JtoO3D0Uk",
        "outputId": "9b4b77a6-12c8-46e4-e246-a1f4b03768ff"
      },
      "execution_count": null,
      "outputs": [
        {
          "output_type": "stream",
          "name": "stdout",
          "text": [
            "[[0. 0. 0. 0. 0. 0. 0. 0. 0. 0.]\n",
            " [0. 0. 0. 0. 0. 0. 0. 0. 0. 0.]\n",
            " [0. 0. 0. 0. 0. 0. 0. 0. 0. 0.]\n",
            " [0. 0. 0. 0. 0. 0. 0. 0. 0. 0.]\n",
            " [0. 0. 0. 0. 0. 0. 0. 0. 0. 0.]\n",
            " [0. 0. 0. 0. 0. 0. 0. 0. 0. 0.]\n",
            " [0. 0. 0. 0. 0. 0. 0. 0. 0. 0.]\n",
            " [0. 0. 0. 0. 0. 0. 0. 0. 0. 0.]\n",
            " [0. 0. 0. 0. 0. 0. 0. 0. 0. 0.]\n",
            " [0. 0. 0. 0. 0. 0. 0. 0. 0. 0.]]\n",
            "[[0. 0. 0. 0. 1. 0. 0. 0. 0. 0.]\n",
            " [0. 0. 0. 0. 0. 0. 0. 0. 0. 0.]\n",
            " [0. 0. 0. 0. 0. 0. 0. 0. 0. 0.]\n",
            " [0. 0. 0. 0. 0. 0. 0. 0. 0. 0.]\n",
            " [0. 0. 0. 0. 0. 0. 0. 0. 0. 0.]\n",
            " [0. 0. 0. 0. 0. 0. 0. 0. 0. 0.]\n",
            " [0. 0. 0. 0. 0. 0. 0. 0. 0. 0.]\n",
            " [0. 0. 0. 0. 0. 0. 0. 0. 0. 0.]\n",
            " [0. 0. 0. 0. 0. 0. 0. 0. 0. 0.]\n",
            " [0. 0. 0. 0. 0. 0. 0. 0. 0. 0.]]\n"
          ]
        }
      ]
    },
    {
      "cell_type": "markdown",
      "source": [
        "7. Reverse an array arr = [1,2,0,0,4,0]."
      ],
      "metadata": {
        "id": "WnEdOF6HD3BR"
      }
    },
    {
      "cell_type": "code",
      "source": [
        "import numpy as np\n",
        "array = [1,2,0,0,4,0]\n",
        "array.reverse()\n",
        "# array.sort()\n",
        "print(array)"
      ],
      "metadata": {
        "colab": {
          "base_uri": "https://localhost:8080/"
        },
        "id": "6fbpSxGGD6a4",
        "outputId": "fcd10844-dafb-4945-849f-d0ee10920198"
      },
      "execution_count": null,
      "outputs": [
        {
          "output_type": "stream",
          "name": "stdout",
          "text": [
            "[0, 4, 0, 0, 2, 1]\n"
          ]
        }
      ]
    },
    {
      "cell_type": "markdown",
      "source": [],
      "metadata": {
        "id": "Oy3vFswvD-wU"
      }
    },
    {
      "cell_type": "markdown",
      "source": [
        "8. Create a 2d array with 1 on border and 0 inside."
      ],
      "metadata": {
        "id": "dgUuEUiVD-Z8"
      }
    },
    {
      "cell_type": "code",
      "source": [
        "import numpy as np\n",
        "array = np.array([[1,2,3],[4,5,6],[7,8,9]])\n",
        "array[0,:]=1\n",
        "array[-1,:] =1\n",
        "array[:,0]=1\n",
        "array[:,-1]=1\n",
        "print(array)"
      ],
      "metadata": {
        "colab": {
          "base_uri": "https://localhost:8080/"
        },
        "id": "bnZwD0UcD_i2",
        "outputId": "091e780b-247b-4c50-c6fe-02d6f8952c5f"
      },
      "execution_count": null,
      "outputs": [
        {
          "output_type": "stream",
          "name": "stdout",
          "text": [
            "[[1 1 1]\n",
            " [1 5 1]\n",
            " [1 1 1]]\n"
          ]
        }
      ]
    },
    {
      "cell_type": "markdown",
      "source": [
        "9. Create a 8X8 matrix and fill it with a checkerboard pattern."
      ],
      "metadata": {
        "id": "nG95_ZMXEGgy"
      }
    },
    {
      "cell_type": "code",
      "source": [
        "import numpy as np\n",
        "check = np.random.randint(0,1,(8,8))\n",
        "check[1::2, ::2] = 1\n",
        "check[::2, 1::2] = 1\n",
        "print(check)"
      ],
      "metadata": {
        "colab": {
          "base_uri": "https://localhost:8080/"
        },
        "id": "NlXW_yuaEKk6",
        "outputId": "abfa0113-6629-4877-9bc5-a0dafcebf0bb"
      },
      "execution_count": null,
      "outputs": [
        {
          "output_type": "stream",
          "name": "stdout",
          "text": [
            "[[0 1 0 1 0 1 0 1]\n",
            " [1 0 1 0 1 0 1 0]\n",
            " [0 1 0 1 0 1 0 1]\n",
            " [1 0 1 0 1 0 1 0]\n",
            " [0 1 0 1 0 1 0 1]\n",
            " [1 0 1 0 1 0 1 0]\n",
            " [0 1 0 1 0 1 0 1]\n",
            " [1 0 1 0 1 0 1 0]]\n"
          ]
        }
      ]
    },
    {
      "cell_type": "markdown",
      "source": [
        "Problem - 3:\n",
        "1. Add the two array.\n"
      ],
      "metadata": {
        "id": "KJLa8zDJFvrN"
      }
    },
    {
      "cell_type": "code",
      "source": [
        "import numpy as np\n",
        "x = np.array([[1,2],\n",
        "              [3,5]])\n",
        "y = np.array([[5,6]\n",
        "            , [7,8]])\n",
        "result1 = x+y\n",
        "result2 = np.add(x,y)\n",
        "print(result1)\n",
        "print(result2)\n",
        "\n",
        "v = np.array([9,10])\n",
        "w = np.array([11,12])\n",
        "result1 = np.add(v,w)\n",
        "print(result1)"
      ],
      "metadata": {
        "colab": {
          "base_uri": "https://localhost:8080/"
        },
        "id": "CPk5HFWHGipY",
        "outputId": "27ebb4b1-1ba8-49e9-d5b0-883e9c71b5f5"
      },
      "execution_count": null,
      "outputs": [
        {
          "output_type": "stream",
          "name": "stdout",
          "text": [
            "[[ 6  8]\n",
            " [10 13]]\n",
            "[[ 6  8]\n",
            " [10 13]]\n",
            "[20 22]\n"
          ]
        }
      ]
    },
    {
      "cell_type": "markdown",
      "source": [
        "2. Subtract the two array.\n"
      ],
      "metadata": {
        "id": "DA2EyN6eF5Vz"
      }
    },
    {
      "cell_type": "code",
      "source": [
        "import numpy as np\n",
        "x = np.array([[1,2],\n",
        "              [3,5]])\n",
        "y = np.array([[5,6]\n",
        "            , [7,8]])\n",
        "result = np.subtract(x,y)\n",
        "print(result)\n",
        "\n",
        "v = np.array([9,10])\n",
        "w = np.array([11,12])\n",
        "result = np.subtract(v,w)\n",
        "print(result)"
      ],
      "metadata": {
        "colab": {
          "base_uri": "https://localhost:8080/"
        },
        "id": "du47HYfbGnGP",
        "outputId": "0d04df2a-2783-4185-d1e9-4662b556932b"
      },
      "execution_count": null,
      "outputs": [
        {
          "output_type": "stream",
          "name": "stdout",
          "text": [
            "[[-4 -4]\n",
            " [-4 -3]]\n",
            "[-2 -2]\n"
          ]
        }
      ]
    },
    {
      "cell_type": "markdown",
      "source": [
        "3. Multiply the array with any integers of your choice."
      ],
      "metadata": {
        "id": "D8Nbdxj5F7qX"
      }
    },
    {
      "cell_type": "code",
      "source": [
        "import numpy as np\n",
        "v = np.array([9,10])\n",
        "w = np.array([11,12])\n",
        "x = np.array([[1,2],\n",
        "              [3,5]])\n",
        "y = np.array([[5,6]\n",
        "            , [7,8]])\n",
        "\n",
        "res1 = v*2\n",
        "res2= w*3\n",
        "res3 = x*4\n",
        "res4=y*5\n",
        "\n",
        "print(res1)\n",
        "print(res2)\n",
        "print(res3)\n",
        "print(res4)"
      ],
      "metadata": {
        "colab": {
          "base_uri": "https://localhost:8080/"
        },
        "id": "gQD-ikGNGt4E",
        "outputId": "45451e3d-1393-4c83-d801-e6c2feb48c96"
      },
      "execution_count": null,
      "outputs": [
        {
          "output_type": "stream",
          "name": "stdout",
          "text": [
            "[18 20]\n",
            "[33 36]\n",
            "[[ 4  8]\n",
            " [12 20]]\n",
            "[[25 30]\n",
            " [35 40]]\n"
          ]
        }
      ]
    },
    {
      "cell_type": "markdown",
      "source": [
        "4. Find the square of each element of the array.\n"
      ],
      "metadata": {
        "id": "N5Y58jw1F-Hf"
      }
    },
    {
      "cell_type": "code",
      "source": [
        "import numpy as np\n",
        "v = np.array([9,10])\n",
        "w = np.array([11,12])\n",
        "x = np.array([[1,2],\n",
        "              [3,5]])\n",
        "y = np.array([[5,6]\n",
        "            , [7,8]])\n",
        "\n",
        "square1 = np.square(v)\n",
        "square2 = np.square(w)\n",
        "square3 = np.square(x)\n",
        "square4 = np.square(y)\n",
        "print(square1,\"\\n\", square2,\"\\n\", square3,\"\\n\", square4)"
      ],
      "metadata": {
        "colab": {
          "base_uri": "https://localhost:8080/"
        },
        "id": "zNR8xiZPGwLS",
        "outputId": "975019eb-1319-4c13-8306-224cbcdcd0e0"
      },
      "execution_count": null,
      "outputs": [
        {
          "output_type": "stream",
          "name": "stdout",
          "text": [
            "[ 81 100] \n",
            " [121 144] \n",
            " [[ 1  4]\n",
            " [ 9 25]] \n",
            " [[25 36]\n",
            " [49 64]]\n"
          ]
        }
      ]
    },
    {
      "cell_type": "markdown",
      "source": [
        "5. Find the dot product between: v(and)w ; x(and)v ; x(and)y.\n"
      ],
      "metadata": {
        "id": "UsB4wMcqGAnO"
      }
    },
    {
      "cell_type": "code",
      "source": [
        "import numpy as np\n",
        "v = np.array([9,10])\n",
        "w = np.array([11,12])\n",
        "x = np.array([[1,2],\n",
        "              [3,5]])\n",
        "y = np.array([[5,6]\n",
        "            , [7,8]])\n",
        "\n",
        "result1 = np.dot(v,w)\n",
        "result2 = np.dot(x,v)\n",
        "result3 =np.dot(x,y)\n",
        "\n",
        "print(result1)\n",
        "print(result2)\n",
        "print(result3)"
      ],
      "metadata": {
        "colab": {
          "base_uri": "https://localhost:8080/"
        },
        "id": "97vHgu8sG3Wx",
        "outputId": "6ad70643-09df-4df3-adcf-00f57e1d51a0"
      },
      "execution_count": null,
      "outputs": [
        {
          "output_type": "stream",
          "name": "stdout",
          "text": [
            "219\n",
            "[29 77]\n",
            "[[19 22]\n",
            " [50 58]]\n"
          ]
        }
      ]
    },
    {
      "cell_type": "markdown",
      "source": [
        "6. Concatenate x(and)y along row and Concatenate v(and)w along column.\n",
        "{Hint:try np.concatenate() or np.vstack() functions.\n"
      ],
      "metadata": {
        "id": "bkdhKUSSGIiT"
      }
    },
    {
      "cell_type": "code",
      "source": [
        "# Part 3\n",
        "# Ques 6\n",
        "import numpy as np\n",
        "v = np.array([9,10])\n",
        "w = np.array([11,12])\n",
        "x = np.array([[1,2],\n",
        "              [3,5]])\n",
        "y = np.array([[5,6]\n",
        "            , [7,8]])\n",
        "result1 = np.concatenate((v,w))\n",
        "result2 = np.concatenate((x,y),axis = 1)\n",
        "print(result1)\n",
        "print(result2)\n",
        "result3 = np.concatenate((x,v))\n",
        "print(result3)\n",
        "# dimensional error"
      ],
      "metadata": {
        "colab": {
          "base_uri": "https://localhost:8080/",
          "height": 326
        },
        "id": "g42DV4spHRuS",
        "outputId": "94715bb4-8581-406a-9716-ea5908eae00b"
      },
      "execution_count": null,
      "outputs": [
        {
          "output_type": "stream",
          "name": "stdout",
          "text": [
            "[ 9 10 11 12]\n",
            "[[1 2 5 6]\n",
            " [3 5 7 8]]\n"
          ]
        },
        {
          "output_type": "error",
          "ename": "ValueError",
          "evalue": "all the input arrays must have same number of dimensions, but the array at index 0 has 2 dimension(s) and the array at index 1 has 1 dimension(s)",
          "traceback": [
            "\u001b[0;31m---------------------------------------------------------------------------\u001b[0m",
            "\u001b[0;31mValueError\u001b[0m                                Traceback (most recent call last)",
            "\u001b[0;32m<ipython-input-27-36d3e7135bb0>\u001b[0m in \u001b[0;36m<cell line: 14>\u001b[0;34m()\u001b[0m\n\u001b[1;32m     12\u001b[0m \u001b[0mprint\u001b[0m\u001b[0;34m(\u001b[0m\u001b[0mresult1\u001b[0m\u001b[0;34m)\u001b[0m\u001b[0;34m\u001b[0m\u001b[0;34m\u001b[0m\u001b[0m\n\u001b[1;32m     13\u001b[0m \u001b[0mprint\u001b[0m\u001b[0;34m(\u001b[0m\u001b[0mresult2\u001b[0m\u001b[0;34m)\u001b[0m\u001b[0;34m\u001b[0m\u001b[0;34m\u001b[0m\u001b[0m\n\u001b[0;32m---> 14\u001b[0;31m \u001b[0mresult3\u001b[0m \u001b[0;34m=\u001b[0m \u001b[0mnp\u001b[0m\u001b[0;34m.\u001b[0m\u001b[0mconcatenate\u001b[0m\u001b[0;34m(\u001b[0m\u001b[0;34m(\u001b[0m\u001b[0mx\u001b[0m\u001b[0;34m,\u001b[0m\u001b[0mv\u001b[0m\u001b[0;34m)\u001b[0m\u001b[0;34m)\u001b[0m\u001b[0;34m\u001b[0m\u001b[0;34m\u001b[0m\u001b[0m\n\u001b[0m\u001b[1;32m     15\u001b[0m \u001b[0mprint\u001b[0m\u001b[0;34m(\u001b[0m\u001b[0mresult3\u001b[0m\u001b[0;34m)\u001b[0m\u001b[0;34m\u001b[0m\u001b[0;34m\u001b[0m\u001b[0m\n\u001b[1;32m     16\u001b[0m \u001b[0;31m# dimensional error\u001b[0m\u001b[0;34m\u001b[0m\u001b[0;34m\u001b[0m\u001b[0m\n",
            "\u001b[0;31mValueError\u001b[0m: all the input arrays must have same number of dimensions, but the array at index 0 has 2 dimension(s) and the array at index 1 has 1 dimension(s)"
          ]
        }
      ]
    },
    {
      "cell_type": "markdown",
      "source": [
        "7. Concatenate x(and)v; if you get an error, observe and explain why did you get the error?"
      ],
      "metadata": {
        "id": "8FfUIOK9GK0n"
      }
    },
    {
      "cell_type": "code",
      "source": [
        "import numpy as np\n",
        "v = np.array([9,10])\n",
        "w = np.array([11,12])\n",
        "x = np.array([[1,2],\n",
        "              [3,5]])\n",
        "y = np.array([[5,6]\n",
        "            , [7,8]])\n",
        "result3 = np.concatenate((x,v))\n",
        "print(result3)\n",
        "# dimensional error"
      ],
      "metadata": {
        "colab": {
          "base_uri": "https://localhost:8080/",
          "height": 275
        },
        "id": "ZuLJwgUxH1bC",
        "outputId": "49998809-2eeb-4aad-b7dd-805f114b6bca"
      },
      "execution_count": null,
      "outputs": [
        {
          "output_type": "error",
          "ename": "ValueError",
          "evalue": "all the input arrays must have same number of dimensions, but the array at index 0 has 2 dimension(s) and the array at index 1 has 1 dimension(s)",
          "traceback": [
            "\u001b[0;31m---------------------------------------------------------------------------\u001b[0m",
            "\u001b[0;31mValueError\u001b[0m                                Traceback (most recent call last)",
            "\u001b[0;32m<ipython-input-28-f22fcbb5cdb1>\u001b[0m in \u001b[0;36m<cell line: 8>\u001b[0;34m()\u001b[0m\n\u001b[1;32m      6\u001b[0m y = np.array([[5,6]\n\u001b[1;32m      7\u001b[0m             , [7,8]])\n\u001b[0;32m----> 8\u001b[0;31m \u001b[0mresult3\u001b[0m \u001b[0;34m=\u001b[0m \u001b[0mnp\u001b[0m\u001b[0;34m.\u001b[0m\u001b[0mconcatenate\u001b[0m\u001b[0;34m(\u001b[0m\u001b[0;34m(\u001b[0m\u001b[0mx\u001b[0m\u001b[0;34m,\u001b[0m\u001b[0mv\u001b[0m\u001b[0;34m)\u001b[0m\u001b[0;34m)\u001b[0m\u001b[0;34m\u001b[0m\u001b[0;34m\u001b[0m\u001b[0m\n\u001b[0m\u001b[1;32m      9\u001b[0m \u001b[0mprint\u001b[0m\u001b[0;34m(\u001b[0m\u001b[0mresult3\u001b[0m\u001b[0;34m)\u001b[0m\u001b[0;34m\u001b[0m\u001b[0;34m\u001b[0m\u001b[0m\n\u001b[1;32m     10\u001b[0m \u001b[0;31m# dimensional error\u001b[0m\u001b[0;34m\u001b[0m\u001b[0;34m\u001b[0m\u001b[0m\n",
            "\u001b[0;31mValueError\u001b[0m: all the input arrays must have same number of dimensions, but the array at index 0 has 2 dimension(s) and the array at index 1 has 1 dimension(s)"
          ]
        }
      ]
    },
    {
      "cell_type": "markdown",
      "source": [
        "Problem - 4:\n",
        "Question 1\n"
      ],
      "metadata": {
        "id": "Jo35VH7fIFQt"
      }
    },
    {
      "cell_type": "code",
      "source": [
        "import numpy as np\n",
        "A = np.array([[3,4],[7,8]])\n",
        "B = np.array([[5,3],[2,1]])\n",
        "A_inv=np.linalg.inv(A)\n",
        "result = np.dot(A_inv,A)\n",
        "result = np.round(result, decimals=10)\n",
        "I = np.eye(2,2)\n",
        "# print(I)\n",
        "if np.allclose(result,I) :\n",
        "    print(\"Equal\")\n",
        "else:\n",
        "    print(\"Not equal\")"
      ],
      "metadata": {
        "colab": {
          "base_uri": "https://localhost:8080/"
        },
        "id": "5Q52udg1IQGI",
        "outputId": "79ba2b54-478e-4b29-fa61-56464dfc582c"
      },
      "execution_count": null,
      "outputs": [
        {
          "output_type": "stream",
          "name": "stdout",
          "text": [
            "Equal\n"
          ]
        }
      ]
    },
    {
      "cell_type": "markdown",
      "source": [
        "Question 2:"
      ],
      "metadata": {
        "id": "qoQ0au_MIUfL"
      }
    },
    {
      "cell_type": "code",
      "source": [
        "import numpy as np\n",
        "A = np.array([[3,4],[7,8]])\n",
        "B = np.array([[5,3],[2,1]])\n",
        "res1 = np.matmul(A,B)\n",
        "res2 = np.matmul(B,A)\n",
        "if np.allclose(res1,res2):\n",
        "    print(\"Equal\")\n",
        "else:\n",
        "    print(\"Not equal\")"
      ],
      "metadata": {
        "colab": {
          "base_uri": "https://localhost:8080/"
        },
        "id": "z86EuA8QIYL2",
        "outputId": "d51b79e9-535c-425c-e89d-fd93f61f6b72"
      },
      "execution_count": null,
      "outputs": [
        {
          "output_type": "stream",
          "name": "stdout",
          "text": [
            "Not equal\n"
          ]
        }
      ]
    },
    {
      "cell_type": "markdown",
      "source": [
        "Question 3:\n"
      ],
      "metadata": {
        "id": "TScnLizrIdQg"
      }
    },
    {
      "cell_type": "code",
      "source": [
        "import numpy as np\n",
        "A = np.array([[3,4],[7,8]])\n",
        "B = np.array([[5,3],[2,1]])\n",
        "res1 = np.matmul(A,B)\n",
        "transpAB = np.transpose(res1)\n",
        "transpA = np.transpose(A)\n",
        "transpB = np.transpose(B)\n",
        "res2 = np.matmul(transpB,transpA)\n",
        "if np.allclose(transpAB,res2):\n",
        "        print(\"Equal\")\n",
        "else:\n",
        "        print(\"Not equal\")"
      ],
      "metadata": {
        "colab": {
          "base_uri": "https://localhost:8080/"
        },
        "id": "lU6qYDSpIgOh",
        "outputId": "ab5bfc6d-92ef-4fe3-f757-05cadd0b0158"
      },
      "execution_count": null,
      "outputs": [
        {
          "output_type": "stream",
          "name": "stdout",
          "text": [
            "Equal\n"
          ]
        }
      ]
    },
    {
      "cell_type": "markdown",
      "source": [
        "Question 4 :"
      ],
      "metadata": {
        "id": "wgfq5uxCIjWE"
      }
    },
    {
      "cell_type": "code",
      "source": [
        "import numpy as np\n",
        "A= ([[2,-3,1],\n",
        "    [1,-1,2],\n",
        "    [3,1,-1]])\n",
        "\n",
        "B= ([-1],\n",
        "    [-3],\n",
        "    [9])\n",
        "\n",
        "A_inv = np.linalg.inv(A)\n",
        "res = np.dot(A_inv,B)\n",
        "print(\"The solution is: \")\n",
        "print(res)"
      ],
      "metadata": {
        "colab": {
          "base_uri": "https://localhost:8080/"
        },
        "id": "kW4r0pdWImn_",
        "outputId": "2b36809c-53d5-438f-f8e3-257f82f20620"
      },
      "execution_count": null,
      "outputs": [
        {
          "output_type": "stream",
          "name": "stdout",
          "text": [
            "The solution is: \n",
            "[[ 2.]\n",
            " [ 1.]\n",
            " [-2.]]\n"
          ]
        }
      ]
    }
  ]
}