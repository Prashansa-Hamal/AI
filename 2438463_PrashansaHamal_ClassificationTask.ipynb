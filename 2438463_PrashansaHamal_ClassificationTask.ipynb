{
  "nbformat": 4,
  "nbformat_minor": 0,
  "metadata": {
    "colab": {
      "provenance": []
    },
    "kernelspec": {
      "name": "python3",
      "display_name": "Python 3"
    },
    "language_info": {
      "name": "python"
    }
  },
  "cells": [
    {
      "cell_type": "code",
      "execution_count": 1,
      "metadata": {
        "id": "5NgdEXrP91Kz"
      },
      "outputs": [],
      "source": [
        "import pandas as pd\n",
        "import numpy as np\n",
        "import matplotlib.pyplot as plt\n",
        "import seaborn as sns\n",
        "from sklearn.model_selection import train_test_split\n",
        "from sklearn.linear_model import LogisticRegression\n",
        "from sklearn.metrics import accuracy_score, classification_report, confusion_matrix\n",
        "from sklearn.model_selection import GridSearchCV\n",
        "from sklearn.preprocessing import StandardScaler\n",
        "from sklearn.feature_selection import SelectKBest, f_classif\n",
        "from sklearn.ensemble import RandomForestClassifier\n",
        "from sklearn.impute import SimpleImputer\n",
        "from sklearn.model_selection import GridSearchCV\n",
        "from sklearn.linear_model import LogisticRegression\n",
        "from sklearn.ensemble import RandomForestClassifier\n",
        "from sklearn.metrics import accuracy_score, precision_score, recall_score, f1_score\n",
        "import numpy as np\n",
        "import matplotlib.pyplot as plt\n",
        "import seaborn as sns\n"
      ]
    },
    {
      "cell_type": "markdown",
      "source": [
        "**Loading Data For Classification**"
      ],
      "metadata": {
        "id": "_U_CraxO9_Ej"
      }
    },
    {
      "cell_type": "code",
      "source": [
        "from google.colab import drive\n",
        "drive.mount('/content/drive')"
      ],
      "metadata": {
        "colab": {
          "base_uri": "https://localhost:8080/"
        },
        "id": "hgjJhQf2-D-8",
        "outputId": "b6a9d735-1464-4fdf-b828-1d00ef79be22"
      },
      "execution_count": 2,
      "outputs": [
        {
          "output_type": "stream",
          "name": "stdout",
          "text": [
            "Mounted at /content/drive\n"
          ]
        }
      ]
    },
    {
      "cell_type": "code",
      "source": [
        "#loading the dataset\n",
        "df = pd.read_csv(\"/content/drive/MyDrive/FinalAssesment/Earthquake.csv\")"
      ],
      "metadata": {
        "id": "pCKQka9Y-K0C"
      },
      "execution_count": 3,
      "outputs": []
    },
    {
      "cell_type": "markdown",
      "source": [
        "**Exploratory Data Analysis and Data Understanding**\n",
        "\n",
        "The **Nepal Earthquake Severity Index** dataset, sourced from earthquake impact assessment studies in Nepal and accessible via Kaggle in CSV format, is well-suited for a **classification task**. This dataset aligns with **UNSDG Goal 11: Sustainable Cities and Communities**, as it focuses on enhancing disaster resilience, and **UNSDG Goal 13: Climate Action**, by addressing the impact of earthquakes on vulnerable communities.  \n",
        "\n",
        "The dataset consists of **3,986 rows and 12 columns**, including **P_CODE** (unique identifier), **VDC_NAME**, **DISTRICT**, **REGION**, **Hazard (Intensity), Exposure, Housing vulnerability, Poverty level, Vulnerability index, Severity, Severity Normalized score,** and **Severity Category** (categorical classification). For this classification task, the target variable is **Severity Category**, which classifies locations into different severity levels based on earthquake impact factors.  \n",
        "\n",
        "By utilizing classification models, this dataset helps in identifying **high-risk areas and key factors contributing to earthquake severity**. It addresses critical questions such as:  \n",
        "\n",
        "- Which districts are the most vulnerable to earthquakes?  \n",
        "- What are the key contributors to earthquake severity?  \n",
        "- How accurately can we predict **severity categories** based on factors like housing vulnerability, exposure, and poverty levels?  \n",
        "- What are the relationships between **housing vulnerability and poverty** or **exposure measures and earthquake impacts**?  \n",
        "\n",
        "The dataset is **well-structured, with minimal missing values** and contains a mix of numerical and categorical attributes, making it highly suitable for **disaster risk classification tasks** using machine learning models.  \n"
      ],
      "metadata": {
        "id": "_CCaqhb4-QKJ"
      }
    },
    {
      "cell_type": "markdown",
      "source": [
        "# **EDA**"
      ],
      "metadata": {
        "id": "KJB3y_j9-cOb"
      }
    },
    {
      "cell_type": "code",
      "source": [
        "#displaying the first five rows of the dataset\n",
        "print(\"First 5 rows of the dataset:\")\n",
        "df.head()"
      ],
      "metadata": {
        "colab": {
          "base_uri": "https://localhost:8080/",
          "height": 343
        },
        "id": "5zOWJEEQ-jjF",
        "outputId": "46a44c25-bb55-4945-89d9-5785ac750161"
      },
      "execution_count": 4,
      "outputs": [
        {
          "output_type": "stream",
          "name": "stdout",
          "text": [
            "First 5 rows of the dataset:\n"
          ]
        },
        {
          "output_type": "execute_result",
          "data": {
            "text/plain": [
              "         P_CODE            VDC_NAME   DISTRICT   REGION  Hazard (Intensity)  \\\n",
              "0  C-BAG-27-031       KathmanduN.P.  Kathmandu  Central                2.17   \n",
              "1  C-BAG-25-027        LalitpurN.P.   Lalitpur  Central                1.72   \n",
              "2  C-NAR-35-005      BharatpurN. P.   Chitawan  Central                2.21   \n",
              "3  C-BAG-26-012  MadhyapurThimiN.P.  Bhaktapur  Central                2.45   \n",
              "4  C-BAG-27-028             Jorpati  Kathmandu  Central                1.91   \n",
              "\n",
              "   Exposure  Housing  Poverty  Vulnerability  Severity  Severity Normalized  \\\n",
              "0     10.00     8.86     1.82           5.34      4.88              10.0000   \n",
              "1      2.26     8.40     0.82           4.61      2.62               5.3707   \n",
              "2      1.47     5.38     2.53           3.96      2.34               4.8083   \n",
              "3      0.85     8.23     0.89           4.56      2.12               4.3447   \n",
              "4      0.87     8.86     1.82           5.34      2.07               4.2407   \n",
              "\n",
              "  Severity category  \n",
              "0           Highest  \n",
              "1           Highest  \n",
              "2           Highest  \n",
              "3           Highest  \n",
              "4           Highest  "
            ],
            "text/html": [
              "\n",
              "  <div id=\"df-3c38f33a-c404-40a2-9218-a2488cfe1410\" class=\"colab-df-container\">\n",
              "    <div>\n",
              "<style scoped>\n",
              "    .dataframe tbody tr th:only-of-type {\n",
              "        vertical-align: middle;\n",
              "    }\n",
              "\n",
              "    .dataframe tbody tr th {\n",
              "        vertical-align: top;\n",
              "    }\n",
              "\n",
              "    .dataframe thead th {\n",
              "        text-align: right;\n",
              "    }\n",
              "</style>\n",
              "<table border=\"1\" class=\"dataframe\">\n",
              "  <thead>\n",
              "    <tr style=\"text-align: right;\">\n",
              "      <th></th>\n",
              "      <th>P_CODE</th>\n",
              "      <th>VDC_NAME</th>\n",
              "      <th>DISTRICT</th>\n",
              "      <th>REGION</th>\n",
              "      <th>Hazard (Intensity)</th>\n",
              "      <th>Exposure</th>\n",
              "      <th>Housing</th>\n",
              "      <th>Poverty</th>\n",
              "      <th>Vulnerability</th>\n",
              "      <th>Severity</th>\n",
              "      <th>Severity Normalized</th>\n",
              "      <th>Severity category</th>\n",
              "    </tr>\n",
              "  </thead>\n",
              "  <tbody>\n",
              "    <tr>\n",
              "      <th>0</th>\n",
              "      <td>C-BAG-27-031</td>\n",
              "      <td>KathmanduN.P.</td>\n",
              "      <td>Kathmandu</td>\n",
              "      <td>Central</td>\n",
              "      <td>2.17</td>\n",
              "      <td>10.00</td>\n",
              "      <td>8.86</td>\n",
              "      <td>1.82</td>\n",
              "      <td>5.34</td>\n",
              "      <td>4.88</td>\n",
              "      <td>10.0000</td>\n",
              "      <td>Highest</td>\n",
              "    </tr>\n",
              "    <tr>\n",
              "      <th>1</th>\n",
              "      <td>C-BAG-25-027</td>\n",
              "      <td>LalitpurN.P.</td>\n",
              "      <td>Lalitpur</td>\n",
              "      <td>Central</td>\n",
              "      <td>1.72</td>\n",
              "      <td>2.26</td>\n",
              "      <td>8.40</td>\n",
              "      <td>0.82</td>\n",
              "      <td>4.61</td>\n",
              "      <td>2.62</td>\n",
              "      <td>5.3707</td>\n",
              "      <td>Highest</td>\n",
              "    </tr>\n",
              "    <tr>\n",
              "      <th>2</th>\n",
              "      <td>C-NAR-35-005</td>\n",
              "      <td>BharatpurN. P.</td>\n",
              "      <td>Chitawan</td>\n",
              "      <td>Central</td>\n",
              "      <td>2.21</td>\n",
              "      <td>1.47</td>\n",
              "      <td>5.38</td>\n",
              "      <td>2.53</td>\n",
              "      <td>3.96</td>\n",
              "      <td>2.34</td>\n",
              "      <td>4.8083</td>\n",
              "      <td>Highest</td>\n",
              "    </tr>\n",
              "    <tr>\n",
              "      <th>3</th>\n",
              "      <td>C-BAG-26-012</td>\n",
              "      <td>MadhyapurThimiN.P.</td>\n",
              "      <td>Bhaktapur</td>\n",
              "      <td>Central</td>\n",
              "      <td>2.45</td>\n",
              "      <td>0.85</td>\n",
              "      <td>8.23</td>\n",
              "      <td>0.89</td>\n",
              "      <td>4.56</td>\n",
              "      <td>2.12</td>\n",
              "      <td>4.3447</td>\n",
              "      <td>Highest</td>\n",
              "    </tr>\n",
              "    <tr>\n",
              "      <th>4</th>\n",
              "      <td>C-BAG-27-028</td>\n",
              "      <td>Jorpati</td>\n",
              "      <td>Kathmandu</td>\n",
              "      <td>Central</td>\n",
              "      <td>1.91</td>\n",
              "      <td>0.87</td>\n",
              "      <td>8.86</td>\n",
              "      <td>1.82</td>\n",
              "      <td>5.34</td>\n",
              "      <td>2.07</td>\n",
              "      <td>4.2407</td>\n",
              "      <td>Highest</td>\n",
              "    </tr>\n",
              "  </tbody>\n",
              "</table>\n",
              "</div>\n",
              "    <div class=\"colab-df-buttons\">\n",
              "\n",
              "  <div class=\"colab-df-container\">\n",
              "    <button class=\"colab-df-convert\" onclick=\"convertToInteractive('df-3c38f33a-c404-40a2-9218-a2488cfe1410')\"\n",
              "            title=\"Convert this dataframe to an interactive table.\"\n",
              "            style=\"display:none;\">\n",
              "\n",
              "  <svg xmlns=\"http://www.w3.org/2000/svg\" height=\"24px\" viewBox=\"0 -960 960 960\">\n",
              "    <path d=\"M120-120v-720h720v720H120Zm60-500h600v-160H180v160Zm220 220h160v-160H400v160Zm0 220h160v-160H400v160ZM180-400h160v-160H180v160Zm440 0h160v-160H620v160ZM180-180h160v-160H180v160Zm440 0h160v-160H620v160Z\"/>\n",
              "  </svg>\n",
              "    </button>\n",
              "\n",
              "  <style>\n",
              "    .colab-df-container {\n",
              "      display:flex;\n",
              "      gap: 12px;\n",
              "    }\n",
              "\n",
              "    .colab-df-convert {\n",
              "      background-color: #E8F0FE;\n",
              "      border: none;\n",
              "      border-radius: 50%;\n",
              "      cursor: pointer;\n",
              "      display: none;\n",
              "      fill: #1967D2;\n",
              "      height: 32px;\n",
              "      padding: 0 0 0 0;\n",
              "      width: 32px;\n",
              "    }\n",
              "\n",
              "    .colab-df-convert:hover {\n",
              "      background-color: #E2EBFA;\n",
              "      box-shadow: 0px 1px 2px rgba(60, 64, 67, 0.3), 0px 1px 3px 1px rgba(60, 64, 67, 0.15);\n",
              "      fill: #174EA6;\n",
              "    }\n",
              "\n",
              "    .colab-df-buttons div {\n",
              "      margin-bottom: 4px;\n",
              "    }\n",
              "\n",
              "    [theme=dark] .colab-df-convert {\n",
              "      background-color: #3B4455;\n",
              "      fill: #D2E3FC;\n",
              "    }\n",
              "\n",
              "    [theme=dark] .colab-df-convert:hover {\n",
              "      background-color: #434B5C;\n",
              "      box-shadow: 0px 1px 3px 1px rgba(0, 0, 0, 0.15);\n",
              "      filter: drop-shadow(0px 1px 2px rgba(0, 0, 0, 0.3));\n",
              "      fill: #FFFFFF;\n",
              "    }\n",
              "  </style>\n",
              "\n",
              "    <script>\n",
              "      const buttonEl =\n",
              "        document.querySelector('#df-3c38f33a-c404-40a2-9218-a2488cfe1410 button.colab-df-convert');\n",
              "      buttonEl.style.display =\n",
              "        google.colab.kernel.accessAllowed ? 'block' : 'none';\n",
              "\n",
              "      async function convertToInteractive(key) {\n",
              "        const element = document.querySelector('#df-3c38f33a-c404-40a2-9218-a2488cfe1410');\n",
              "        const dataTable =\n",
              "          await google.colab.kernel.invokeFunction('convertToInteractive',\n",
              "                                                    [key], {});\n",
              "        if (!dataTable) return;\n",
              "\n",
              "        const docLinkHtml = 'Like what you see? Visit the ' +\n",
              "          '<a target=\"_blank\" href=https://colab.research.google.com/notebooks/data_table.ipynb>data table notebook</a>'\n",
              "          + ' to learn more about interactive tables.';\n",
              "        element.innerHTML = '';\n",
              "        dataTable['output_type'] = 'display_data';\n",
              "        await google.colab.output.renderOutput(dataTable, element);\n",
              "        const docLink = document.createElement('div');\n",
              "        docLink.innerHTML = docLinkHtml;\n",
              "        element.appendChild(docLink);\n",
              "      }\n",
              "    </script>\n",
              "  </div>\n",
              "\n",
              "\n",
              "<div id=\"df-2aa62c4f-71fe-4227-b72d-98163f787530\">\n",
              "  <button class=\"colab-df-quickchart\" onclick=\"quickchart('df-2aa62c4f-71fe-4227-b72d-98163f787530')\"\n",
              "            title=\"Suggest charts\"\n",
              "            style=\"display:none;\">\n",
              "\n",
              "<svg xmlns=\"http://www.w3.org/2000/svg\" height=\"24px\"viewBox=\"0 0 24 24\"\n",
              "     width=\"24px\">\n",
              "    <g>\n",
              "        <path d=\"M19 3H5c-1.1 0-2 .9-2 2v14c0 1.1.9 2 2 2h14c1.1 0 2-.9 2-2V5c0-1.1-.9-2-2-2zM9 17H7v-7h2v7zm4 0h-2V7h2v10zm4 0h-2v-4h2v4z\"/>\n",
              "    </g>\n",
              "</svg>\n",
              "  </button>\n",
              "\n",
              "<style>\n",
              "  .colab-df-quickchart {\n",
              "      --bg-color: #E8F0FE;\n",
              "      --fill-color: #1967D2;\n",
              "      --hover-bg-color: #E2EBFA;\n",
              "      --hover-fill-color: #174EA6;\n",
              "      --disabled-fill-color: #AAA;\n",
              "      --disabled-bg-color: #DDD;\n",
              "  }\n",
              "\n",
              "  [theme=dark] .colab-df-quickchart {\n",
              "      --bg-color: #3B4455;\n",
              "      --fill-color: #D2E3FC;\n",
              "      --hover-bg-color: #434B5C;\n",
              "      --hover-fill-color: #FFFFFF;\n",
              "      --disabled-bg-color: #3B4455;\n",
              "      --disabled-fill-color: #666;\n",
              "  }\n",
              "\n",
              "  .colab-df-quickchart {\n",
              "    background-color: var(--bg-color);\n",
              "    border: none;\n",
              "    border-radius: 50%;\n",
              "    cursor: pointer;\n",
              "    display: none;\n",
              "    fill: var(--fill-color);\n",
              "    height: 32px;\n",
              "    padding: 0;\n",
              "    width: 32px;\n",
              "  }\n",
              "\n",
              "  .colab-df-quickchart:hover {\n",
              "    background-color: var(--hover-bg-color);\n",
              "    box-shadow: 0 1px 2px rgba(60, 64, 67, 0.3), 0 1px 3px 1px rgba(60, 64, 67, 0.15);\n",
              "    fill: var(--button-hover-fill-color);\n",
              "  }\n",
              "\n",
              "  .colab-df-quickchart-complete:disabled,\n",
              "  .colab-df-quickchart-complete:disabled:hover {\n",
              "    background-color: var(--disabled-bg-color);\n",
              "    fill: var(--disabled-fill-color);\n",
              "    box-shadow: none;\n",
              "  }\n",
              "\n",
              "  .colab-df-spinner {\n",
              "    border: 2px solid var(--fill-color);\n",
              "    border-color: transparent;\n",
              "    border-bottom-color: var(--fill-color);\n",
              "    animation:\n",
              "      spin 1s steps(1) infinite;\n",
              "  }\n",
              "\n",
              "  @keyframes spin {\n",
              "    0% {\n",
              "      border-color: transparent;\n",
              "      border-bottom-color: var(--fill-color);\n",
              "      border-left-color: var(--fill-color);\n",
              "    }\n",
              "    20% {\n",
              "      border-color: transparent;\n",
              "      border-left-color: var(--fill-color);\n",
              "      border-top-color: var(--fill-color);\n",
              "    }\n",
              "    30% {\n",
              "      border-color: transparent;\n",
              "      border-left-color: var(--fill-color);\n",
              "      border-top-color: var(--fill-color);\n",
              "      border-right-color: var(--fill-color);\n",
              "    }\n",
              "    40% {\n",
              "      border-color: transparent;\n",
              "      border-right-color: var(--fill-color);\n",
              "      border-top-color: var(--fill-color);\n",
              "    }\n",
              "    60% {\n",
              "      border-color: transparent;\n",
              "      border-right-color: var(--fill-color);\n",
              "    }\n",
              "    80% {\n",
              "      border-color: transparent;\n",
              "      border-right-color: var(--fill-color);\n",
              "      border-bottom-color: var(--fill-color);\n",
              "    }\n",
              "    90% {\n",
              "      border-color: transparent;\n",
              "      border-bottom-color: var(--fill-color);\n",
              "    }\n",
              "  }\n",
              "</style>\n",
              "\n",
              "  <script>\n",
              "    async function quickchart(key) {\n",
              "      const quickchartButtonEl =\n",
              "        document.querySelector('#' + key + ' button');\n",
              "      quickchartButtonEl.disabled = true;  // To prevent multiple clicks.\n",
              "      quickchartButtonEl.classList.add('colab-df-spinner');\n",
              "      try {\n",
              "        const charts = await google.colab.kernel.invokeFunction(\n",
              "            'suggestCharts', [key], {});\n",
              "      } catch (error) {\n",
              "        console.error('Error during call to suggestCharts:', error);\n",
              "      }\n",
              "      quickchartButtonEl.classList.remove('colab-df-spinner');\n",
              "      quickchartButtonEl.classList.add('colab-df-quickchart-complete');\n",
              "    }\n",
              "    (() => {\n",
              "      let quickchartButtonEl =\n",
              "        document.querySelector('#df-2aa62c4f-71fe-4227-b72d-98163f787530 button');\n",
              "      quickchartButtonEl.style.display =\n",
              "        google.colab.kernel.accessAllowed ? 'block' : 'none';\n",
              "    })();\n",
              "  </script>\n",
              "</div>\n",
              "\n",
              "    </div>\n",
              "  </div>\n"
            ],
            "application/vnd.google.colaboratory.intrinsic+json": {
              "type": "dataframe",
              "variable_name": "df",
              "summary": "{\n  \"name\": \"df\",\n  \"rows\": 3986,\n  \"fields\": [\n    {\n      \"column\": \"P_CODE\",\n      \"properties\": {\n        \"dtype\": \"string\",\n        \"num_unique_values\": 3985,\n        \"samples\": [\n          \"C-BAG-24-082\",\n          \"E-SAG-14-025\",\n          \"C-BAG-23-043\"\n        ],\n        \"semantic_type\": \"\",\n        \"description\": \"\"\n      }\n    },\n    {\n      \"column\": \"VDC_NAME\",\n      \"properties\": {\n        \"dtype\": \"string\",\n        \"num_unique_values\": 3685,\n        \"samples\": [\n          \"Sahalkot\",\n          \"Thawang\",\n          \"Bhairabanath\"\n        ],\n        \"semantic_type\": \"\",\n        \"description\": \"\"\n      }\n    },\n    {\n      \"column\": \"DISTRICT\",\n      \"properties\": {\n        \"dtype\": \"category\",\n        \"num_unique_values\": 75,\n        \"samples\": [\n          \"Gorkha\",\n          \"Bajura\",\n          \"Nawalparasi\"\n        ],\n        \"semantic_type\": \"\",\n        \"description\": \"\"\n      }\n    },\n    {\n      \"column\": \"REGION\",\n      \"properties\": {\n        \"dtype\": \"category\",\n        \"num_unique_values\": 5,\n        \"samples\": [\n          \"Western\",\n          \"Far-Western\",\n          \"Eastern\"\n        ],\n        \"semantic_type\": \"\",\n        \"description\": \"\"\n      }\n    },\n    {\n      \"column\": \"Hazard (Intensity)\",\n      \"properties\": {\n        \"dtype\": \"number\",\n        \"std\": 0.7799370937314957,\n        \"min\": 0.0,\n        \"max\": 10.0,\n        \"num_unique_values\": 323,\n        \"samples\": [\n          0.75,\n          4.82,\n          4.43\n        ],\n        \"semantic_type\": \"\",\n        \"description\": \"\"\n      }\n    },\n    {\n      \"column\": \"Exposure\",\n      \"properties\": {\n        \"dtype\": \"number\",\n        \"std\": 0.18755136917488086,\n        \"min\": 0.0,\n        \"max\": 10.0,\n        \"num_unique_values\": 72,\n        \"samples\": [\n          0.87,\n          0.37,\n          0.32\n        ],\n        \"semantic_type\": \"\",\n        \"description\": \"\"\n      }\n    },\n    {\n      \"column\": \"Housing\",\n      \"properties\": {\n        \"dtype\": \"number\",\n        \"std\": 1.9530367659156578,\n        \"min\": 1.17,\n        \"max\": 9.94,\n        \"num_unique_values\": 71,\n        \"samples\": [\n          5.46,\n          8.86,\n          1.5\n        ],\n        \"semantic_type\": \"\",\n        \"description\": \"\"\n      }\n    },\n    {\n      \"column\": \"Poverty\",\n      \"properties\": {\n        \"dtype\": \"number\",\n        \"std\": 2.270975090206232,\n        \"min\": 0.0,\n        \"max\": 10.0,\n        \"num_unique_values\": 70,\n        \"samples\": [\n          7.86,\n          1.82,\n          6.87\n        ],\n        \"semantic_type\": \"\",\n        \"description\": \"\"\n      }\n    },\n    {\n      \"column\": \"Vulnerability\",\n      \"properties\": {\n        \"dtype\": \"number\",\n        \"std\": 1.4508170469956958,\n        \"min\": 1.62,\n        \"max\": 8.83,\n        \"num_unique_values\": 70,\n        \"samples\": [\n          4.59,\n          5.34,\n          6.99\n        ],\n        \"semantic_type\": \"\",\n        \"description\": \"\"\n      }\n    },\n    {\n      \"column\": \"Severity\",\n      \"properties\": {\n        \"dtype\": \"number\",\n        \"std\": 0.2987556493323341,\n        \"min\": 0.0,\n        \"max\": 4.88,\n        \"num_unique_values\": 151,\n        \"samples\": [\n          0.75,\n          1.44,\n          0.69\n        ],\n        \"semantic_type\": \"\",\n        \"description\": \"\"\n      }\n    },\n    {\n      \"column\": \"Severity Normalized\",\n      \"properties\": {\n        \"dtype\": \"number\",\n        \"std\": 0.6126519815343211,\n        \"min\": 0.0,\n        \"max\": 10.0,\n        \"num_unique_values\": 2813,\n        \"samples\": [\n          1.2879,\n          0.6247,\n          0.6149\n        ],\n        \"semantic_type\": \"\",\n        \"description\": \"\"\n      }\n    },\n    {\n      \"column\": \"Severity category\",\n      \"properties\": {\n        \"dtype\": \"category\",\n        \"num_unique_values\": 6,\n        \"samples\": [\n          \"Highest\",\n          \"High\",\n          \"Lowest\"\n        ],\n        \"semantic_type\": \"\",\n        \"description\": \"\"\n      }\n    }\n  ]\n}"
            }
          },
          "metadata": {},
          "execution_count": 4
        }
      ]
    },
    {
      "cell_type": "code",
      "source": [
        "#displaying the last five rows of the dataset\n",
        "print(\"Last 5 rows of the dataset:\")\n",
        "df.tail()"
      ],
      "metadata": {
        "colab": {
          "base_uri": "https://localhost:8080/",
          "height": 394
        },
        "id": "V8L8L6-T-akI",
        "outputId": "79b8544a-d75e-482f-842e-59dc41ceb1a9"
      },
      "execution_count": 5,
      "outputs": [
        {
          "output_type": "stream",
          "name": "stdout",
          "text": [
            "Last 5 rows of the dataset:\n"
          ]
        },
        {
          "output_type": "execute_result",
          "data": {
            "text/plain": [
              "            P_CODE               VDC_NAME     DISTRICT       REGION  \\\n",
              "3981  F-SET-70-052  Khaptad National Park         Doti  Far-Western   \n",
              "3982  M-BHE-58-033   Royal Bardiya Nation      Bardiya  Mid-Western   \n",
              "3983  W-LUM-48-075   Royal Chitawan Natio  Nawalparasi      Western   \n",
              "3984  W-LUM-49-072    Lumbini Development    Rupandehi      Western   \n",
              "3985           NaN                    NaN          NaN          NaN   \n",
              "\n",
              "      Hazard (Intensity)  Exposure  Housing  Poverty  Vulnerability  Severity  \\\n",
              "3981                0.00       0.0     8.77     8.26           8.52       0.0   \n",
              "3982                0.00       0.0     4.64     4.82           4.73       0.0   \n",
              "3983                0.84       0.0     5.61     3.51           4.56       0.0   \n",
              "3984                0.02       0.0     7.81     2.95           5.38       0.0   \n",
              "3985                 NaN       NaN      NaN      NaN            NaN       NaN   \n",
              "\n",
              "      Severity Normalized Severity category  \n",
              "3981                  0.0            Lowest  \n",
              "3982                  0.0            Lowest  \n",
              "3983                  0.0            Lowest  \n",
              "3984                  0.0            Lowest  \n",
              "3985                  NaN               NaN  "
            ],
            "text/html": [
              "\n",
              "  <div id=\"df-bbfa7fcf-5866-40bf-afb2-667bedb0f176\" class=\"colab-df-container\">\n",
              "    <div>\n",
              "<style scoped>\n",
              "    .dataframe tbody tr th:only-of-type {\n",
              "        vertical-align: middle;\n",
              "    }\n",
              "\n",
              "    .dataframe tbody tr th {\n",
              "        vertical-align: top;\n",
              "    }\n",
              "\n",
              "    .dataframe thead th {\n",
              "        text-align: right;\n",
              "    }\n",
              "</style>\n",
              "<table border=\"1\" class=\"dataframe\">\n",
              "  <thead>\n",
              "    <tr style=\"text-align: right;\">\n",
              "      <th></th>\n",
              "      <th>P_CODE</th>\n",
              "      <th>VDC_NAME</th>\n",
              "      <th>DISTRICT</th>\n",
              "      <th>REGION</th>\n",
              "      <th>Hazard (Intensity)</th>\n",
              "      <th>Exposure</th>\n",
              "      <th>Housing</th>\n",
              "      <th>Poverty</th>\n",
              "      <th>Vulnerability</th>\n",
              "      <th>Severity</th>\n",
              "      <th>Severity Normalized</th>\n",
              "      <th>Severity category</th>\n",
              "    </tr>\n",
              "  </thead>\n",
              "  <tbody>\n",
              "    <tr>\n",
              "      <th>3981</th>\n",
              "      <td>F-SET-70-052</td>\n",
              "      <td>Khaptad National Park</td>\n",
              "      <td>Doti</td>\n",
              "      <td>Far-Western</td>\n",
              "      <td>0.00</td>\n",
              "      <td>0.0</td>\n",
              "      <td>8.77</td>\n",
              "      <td>8.26</td>\n",
              "      <td>8.52</td>\n",
              "      <td>0.0</td>\n",
              "      <td>0.0</td>\n",
              "      <td>Lowest</td>\n",
              "    </tr>\n",
              "    <tr>\n",
              "      <th>3982</th>\n",
              "      <td>M-BHE-58-033</td>\n",
              "      <td>Royal Bardiya Nation</td>\n",
              "      <td>Bardiya</td>\n",
              "      <td>Mid-Western</td>\n",
              "      <td>0.00</td>\n",
              "      <td>0.0</td>\n",
              "      <td>4.64</td>\n",
              "      <td>4.82</td>\n",
              "      <td>4.73</td>\n",
              "      <td>0.0</td>\n",
              "      <td>0.0</td>\n",
              "      <td>Lowest</td>\n",
              "    </tr>\n",
              "    <tr>\n",
              "      <th>3983</th>\n",
              "      <td>W-LUM-48-075</td>\n",
              "      <td>Royal Chitawan Natio</td>\n",
              "      <td>Nawalparasi</td>\n",
              "      <td>Western</td>\n",
              "      <td>0.84</td>\n",
              "      <td>0.0</td>\n",
              "      <td>5.61</td>\n",
              "      <td>3.51</td>\n",
              "      <td>4.56</td>\n",
              "      <td>0.0</td>\n",
              "      <td>0.0</td>\n",
              "      <td>Lowest</td>\n",
              "    </tr>\n",
              "    <tr>\n",
              "      <th>3984</th>\n",
              "      <td>W-LUM-49-072</td>\n",
              "      <td>Lumbini Development</td>\n",
              "      <td>Rupandehi</td>\n",
              "      <td>Western</td>\n",
              "      <td>0.02</td>\n",
              "      <td>0.0</td>\n",
              "      <td>7.81</td>\n",
              "      <td>2.95</td>\n",
              "      <td>5.38</td>\n",
              "      <td>0.0</td>\n",
              "      <td>0.0</td>\n",
              "      <td>Lowest</td>\n",
              "    </tr>\n",
              "    <tr>\n",
              "      <th>3985</th>\n",
              "      <td>NaN</td>\n",
              "      <td>NaN</td>\n",
              "      <td>NaN</td>\n",
              "      <td>NaN</td>\n",
              "      <td>NaN</td>\n",
              "      <td>NaN</td>\n",
              "      <td>NaN</td>\n",
              "      <td>NaN</td>\n",
              "      <td>NaN</td>\n",
              "      <td>NaN</td>\n",
              "      <td>NaN</td>\n",
              "      <td>NaN</td>\n",
              "    </tr>\n",
              "  </tbody>\n",
              "</table>\n",
              "</div>\n",
              "    <div class=\"colab-df-buttons\">\n",
              "\n",
              "  <div class=\"colab-df-container\">\n",
              "    <button class=\"colab-df-convert\" onclick=\"convertToInteractive('df-bbfa7fcf-5866-40bf-afb2-667bedb0f176')\"\n",
              "            title=\"Convert this dataframe to an interactive table.\"\n",
              "            style=\"display:none;\">\n",
              "\n",
              "  <svg xmlns=\"http://www.w3.org/2000/svg\" height=\"24px\" viewBox=\"0 -960 960 960\">\n",
              "    <path d=\"M120-120v-720h720v720H120Zm60-500h600v-160H180v160Zm220 220h160v-160H400v160Zm0 220h160v-160H400v160ZM180-400h160v-160H180v160Zm440 0h160v-160H620v160ZM180-180h160v-160H180v160Zm440 0h160v-160H620v160Z\"/>\n",
              "  </svg>\n",
              "    </button>\n",
              "\n",
              "  <style>\n",
              "    .colab-df-container {\n",
              "      display:flex;\n",
              "      gap: 12px;\n",
              "    }\n",
              "\n",
              "    .colab-df-convert {\n",
              "      background-color: #E8F0FE;\n",
              "      border: none;\n",
              "      border-radius: 50%;\n",
              "      cursor: pointer;\n",
              "      display: none;\n",
              "      fill: #1967D2;\n",
              "      height: 32px;\n",
              "      padding: 0 0 0 0;\n",
              "      width: 32px;\n",
              "    }\n",
              "\n",
              "    .colab-df-convert:hover {\n",
              "      background-color: #E2EBFA;\n",
              "      box-shadow: 0px 1px 2px rgba(60, 64, 67, 0.3), 0px 1px 3px 1px rgba(60, 64, 67, 0.15);\n",
              "      fill: #174EA6;\n",
              "    }\n",
              "\n",
              "    .colab-df-buttons div {\n",
              "      margin-bottom: 4px;\n",
              "    }\n",
              "\n",
              "    [theme=dark] .colab-df-convert {\n",
              "      background-color: #3B4455;\n",
              "      fill: #D2E3FC;\n",
              "    }\n",
              "\n",
              "    [theme=dark] .colab-df-convert:hover {\n",
              "      background-color: #434B5C;\n",
              "      box-shadow: 0px 1px 3px 1px rgba(0, 0, 0, 0.15);\n",
              "      filter: drop-shadow(0px 1px 2px rgba(0, 0, 0, 0.3));\n",
              "      fill: #FFFFFF;\n",
              "    }\n",
              "  </style>\n",
              "\n",
              "    <script>\n",
              "      const buttonEl =\n",
              "        document.querySelector('#df-bbfa7fcf-5866-40bf-afb2-667bedb0f176 button.colab-df-convert');\n",
              "      buttonEl.style.display =\n",
              "        google.colab.kernel.accessAllowed ? 'block' : 'none';\n",
              "\n",
              "      async function convertToInteractive(key) {\n",
              "        const element = document.querySelector('#df-bbfa7fcf-5866-40bf-afb2-667bedb0f176');\n",
              "        const dataTable =\n",
              "          await google.colab.kernel.invokeFunction('convertToInteractive',\n",
              "                                                    [key], {});\n",
              "        if (!dataTable) return;\n",
              "\n",
              "        const docLinkHtml = 'Like what you see? Visit the ' +\n",
              "          '<a target=\"_blank\" href=https://colab.research.google.com/notebooks/data_table.ipynb>data table notebook</a>'\n",
              "          + ' to learn more about interactive tables.';\n",
              "        element.innerHTML = '';\n",
              "        dataTable['output_type'] = 'display_data';\n",
              "        await google.colab.output.renderOutput(dataTable, element);\n",
              "        const docLink = document.createElement('div');\n",
              "        docLink.innerHTML = docLinkHtml;\n",
              "        element.appendChild(docLink);\n",
              "      }\n",
              "    </script>\n",
              "  </div>\n",
              "\n",
              "\n",
              "<div id=\"df-ac9a781d-cc28-423c-987d-7212e83c0267\">\n",
              "  <button class=\"colab-df-quickchart\" onclick=\"quickchart('df-ac9a781d-cc28-423c-987d-7212e83c0267')\"\n",
              "            title=\"Suggest charts\"\n",
              "            style=\"display:none;\">\n",
              "\n",
              "<svg xmlns=\"http://www.w3.org/2000/svg\" height=\"24px\"viewBox=\"0 0 24 24\"\n",
              "     width=\"24px\">\n",
              "    <g>\n",
              "        <path d=\"M19 3H5c-1.1 0-2 .9-2 2v14c0 1.1.9 2 2 2h14c1.1 0 2-.9 2-2V5c0-1.1-.9-2-2-2zM9 17H7v-7h2v7zm4 0h-2V7h2v10zm4 0h-2v-4h2v4z\"/>\n",
              "    </g>\n",
              "</svg>\n",
              "  </button>\n",
              "\n",
              "<style>\n",
              "  .colab-df-quickchart {\n",
              "      --bg-color: #E8F0FE;\n",
              "      --fill-color: #1967D2;\n",
              "      --hover-bg-color: #E2EBFA;\n",
              "      --hover-fill-color: #174EA6;\n",
              "      --disabled-fill-color: #AAA;\n",
              "      --disabled-bg-color: #DDD;\n",
              "  }\n",
              "\n",
              "  [theme=dark] .colab-df-quickchart {\n",
              "      --bg-color: #3B4455;\n",
              "      --fill-color: #D2E3FC;\n",
              "      --hover-bg-color: #434B5C;\n",
              "      --hover-fill-color: #FFFFFF;\n",
              "      --disabled-bg-color: #3B4455;\n",
              "      --disabled-fill-color: #666;\n",
              "  }\n",
              "\n",
              "  .colab-df-quickchart {\n",
              "    background-color: var(--bg-color);\n",
              "    border: none;\n",
              "    border-radius: 50%;\n",
              "    cursor: pointer;\n",
              "    display: none;\n",
              "    fill: var(--fill-color);\n",
              "    height: 32px;\n",
              "    padding: 0;\n",
              "    width: 32px;\n",
              "  }\n",
              "\n",
              "  .colab-df-quickchart:hover {\n",
              "    background-color: var(--hover-bg-color);\n",
              "    box-shadow: 0 1px 2px rgba(60, 64, 67, 0.3), 0 1px 3px 1px rgba(60, 64, 67, 0.15);\n",
              "    fill: var(--button-hover-fill-color);\n",
              "  }\n",
              "\n",
              "  .colab-df-quickchart-complete:disabled,\n",
              "  .colab-df-quickchart-complete:disabled:hover {\n",
              "    background-color: var(--disabled-bg-color);\n",
              "    fill: var(--disabled-fill-color);\n",
              "    box-shadow: none;\n",
              "  }\n",
              "\n",
              "  .colab-df-spinner {\n",
              "    border: 2px solid var(--fill-color);\n",
              "    border-color: transparent;\n",
              "    border-bottom-color: var(--fill-color);\n",
              "    animation:\n",
              "      spin 1s steps(1) infinite;\n",
              "  }\n",
              "\n",
              "  @keyframes spin {\n",
              "    0% {\n",
              "      border-color: transparent;\n",
              "      border-bottom-color: var(--fill-color);\n",
              "      border-left-color: var(--fill-color);\n",
              "    }\n",
              "    20% {\n",
              "      border-color: transparent;\n",
              "      border-left-color: var(--fill-color);\n",
              "      border-top-color: var(--fill-color);\n",
              "    }\n",
              "    30% {\n",
              "      border-color: transparent;\n",
              "      border-left-color: var(--fill-color);\n",
              "      border-top-color: var(--fill-color);\n",
              "      border-right-color: var(--fill-color);\n",
              "    }\n",
              "    40% {\n",
              "      border-color: transparent;\n",
              "      border-right-color: var(--fill-color);\n",
              "      border-top-color: var(--fill-color);\n",
              "    }\n",
              "    60% {\n",
              "      border-color: transparent;\n",
              "      border-right-color: var(--fill-color);\n",
              "    }\n",
              "    80% {\n",
              "      border-color: transparent;\n",
              "      border-right-color: var(--fill-color);\n",
              "      border-bottom-color: var(--fill-color);\n",
              "    }\n",
              "    90% {\n",
              "      border-color: transparent;\n",
              "      border-bottom-color: var(--fill-color);\n",
              "    }\n",
              "  }\n",
              "</style>\n",
              "\n",
              "  <script>\n",
              "    async function quickchart(key) {\n",
              "      const quickchartButtonEl =\n",
              "        document.querySelector('#' + key + ' button');\n",
              "      quickchartButtonEl.disabled = true;  // To prevent multiple clicks.\n",
              "      quickchartButtonEl.classList.add('colab-df-spinner');\n",
              "      try {\n",
              "        const charts = await google.colab.kernel.invokeFunction(\n",
              "            'suggestCharts', [key], {});\n",
              "      } catch (error) {\n",
              "        console.error('Error during call to suggestCharts:', error);\n",
              "      }\n",
              "      quickchartButtonEl.classList.remove('colab-df-spinner');\n",
              "      quickchartButtonEl.classList.add('colab-df-quickchart-complete');\n",
              "    }\n",
              "    (() => {\n",
              "      let quickchartButtonEl =\n",
              "        document.querySelector('#df-ac9a781d-cc28-423c-987d-7212e83c0267 button');\n",
              "      quickchartButtonEl.style.display =\n",
              "        google.colab.kernel.accessAllowed ? 'block' : 'none';\n",
              "    })();\n",
              "  </script>\n",
              "</div>\n",
              "\n",
              "    </div>\n",
              "  </div>\n"
            ],
            "application/vnd.google.colaboratory.intrinsic+json": {
              "type": "dataframe",
              "summary": "{\n  \"name\": \"df\",\n  \"rows\": 5,\n  \"fields\": [\n    {\n      \"column\": \"P_CODE\",\n      \"properties\": {\n        \"dtype\": \"string\",\n        \"num_unique_values\": 4,\n        \"samples\": [\n          \"M-BHE-58-033\",\n          \"W-LUM-49-072\",\n          \"F-SET-70-052\"\n        ],\n        \"semantic_type\": \"\",\n        \"description\": \"\"\n      }\n    },\n    {\n      \"column\": \"VDC_NAME\",\n      \"properties\": {\n        \"dtype\": \"string\",\n        \"num_unique_values\": 4,\n        \"samples\": [\n          \"Royal Bardiya Nation\",\n          \"Lumbini Development\",\n          \"Khaptad National Park\"\n        ],\n        \"semantic_type\": \"\",\n        \"description\": \"\"\n      }\n    },\n    {\n      \"column\": \"DISTRICT\",\n      \"properties\": {\n        \"dtype\": \"string\",\n        \"num_unique_values\": 4,\n        \"samples\": [\n          \"Bardiya\",\n          \"Rupandehi\",\n          \"Doti\"\n        ],\n        \"semantic_type\": \"\",\n        \"description\": \"\"\n      }\n    },\n    {\n      \"column\": \"REGION\",\n      \"properties\": {\n        \"dtype\": \"string\",\n        \"num_unique_values\": 3,\n        \"samples\": [\n          \"Far-Western\",\n          \"Mid-Western\",\n          \"Western\"\n        ],\n        \"semantic_type\": \"\",\n        \"description\": \"\"\n      }\n    },\n    {\n      \"column\": \"Hazard (Intensity)\",\n      \"properties\": {\n        \"dtype\": \"number\",\n        \"std\": 0.4167733196834941,\n        \"min\": 0.0,\n        \"max\": 0.84,\n        \"num_unique_values\": 3,\n        \"samples\": [\n          0.0,\n          0.84,\n          0.02\n        ],\n        \"semantic_type\": \"\",\n        \"description\": \"\"\n      }\n    },\n    {\n      \"column\": \"Exposure\",\n      \"properties\": {\n        \"dtype\": \"number\",\n        \"std\": 0.0,\n        \"min\": 0.0,\n        \"max\": 0.0,\n        \"num_unique_values\": 1,\n        \"samples\": [\n          0.0\n        ],\n        \"semantic_type\": \"\",\n        \"description\": \"\"\n      }\n    },\n    {\n      \"column\": \"Housing\",\n      \"properties\": {\n        \"dtype\": \"number\",\n        \"std\": 1.910364275908306,\n        \"min\": 4.64,\n        \"max\": 8.77,\n        \"num_unique_values\": 4,\n        \"samples\": [\n          4.64\n        ],\n        \"semantic_type\": \"\",\n        \"description\": \"\"\n      }\n    },\n    {\n      \"column\": \"Poverty\",\n      \"properties\": {\n        \"dtype\": \"number\",\n        \"std\": 2.382554651349401,\n        \"min\": 2.95,\n        \"max\": 8.26,\n        \"num_unique_values\": 4,\n        \"samples\": [\n          4.82\n        ],\n        \"semantic_type\": \"\",\n        \"description\": \"\"\n      }\n    },\n    {\n      \"column\": \"Vulnerability\",\n      \"properties\": {\n        \"dtype\": \"number\",\n        \"std\": 1.8490785993750147,\n        \"min\": 4.56,\n        \"max\": 8.52,\n        \"num_unique_values\": 4,\n        \"samples\": [\n          4.73\n        ],\n        \"semantic_type\": \"\",\n        \"description\": \"\"\n      }\n    },\n    {\n      \"column\": \"Severity\",\n      \"properties\": {\n        \"dtype\": \"number\",\n        \"std\": 0.0,\n        \"min\": 0.0,\n        \"max\": 0.0,\n        \"num_unique_values\": 1,\n        \"samples\": [\n          0.0\n        ],\n        \"semantic_type\": \"\",\n        \"description\": \"\"\n      }\n    },\n    {\n      \"column\": \"Severity Normalized\",\n      \"properties\": {\n        \"dtype\": \"number\",\n        \"std\": 0.0,\n        \"min\": 0.0,\n        \"max\": 0.0,\n        \"num_unique_values\": 1,\n        \"samples\": [\n          0.0\n        ],\n        \"semantic_type\": \"\",\n        \"description\": \"\"\n      }\n    },\n    {\n      \"column\": \"Severity category\",\n      \"properties\": {\n        \"dtype\": \"category\",\n        \"num_unique_values\": 1,\n        \"samples\": [\n          \"Lowest\"\n        ],\n        \"semantic_type\": \"\",\n        \"description\": \"\"\n      }\n    }\n  ]\n}"
            }
          },
          "metadata": {},
          "execution_count": 5
        }
      ]
    },
    {
      "cell_type": "code",
      "source": [
        "#acquiring the details of the dataset\n",
        "df.info()"
      ],
      "metadata": {
        "colab": {
          "base_uri": "https://localhost:8080/"
        },
        "id": "g9jmfTjA-gxA",
        "outputId": "e01b25a0-6418-4e35-f676-7550ac1811e3"
      },
      "execution_count": 6,
      "outputs": [
        {
          "output_type": "stream",
          "name": "stdout",
          "text": [
            "<class 'pandas.core.frame.DataFrame'>\n",
            "RangeIndex: 3986 entries, 0 to 3985\n",
            "Data columns (total 12 columns):\n",
            " #   Column               Non-Null Count  Dtype  \n",
            "---  ------               --------------  -----  \n",
            " 0   P_CODE               3985 non-null   object \n",
            " 1   VDC_NAME             3985 non-null   object \n",
            " 2   DISTRICT             3985 non-null   object \n",
            " 3   REGION               3985 non-null   object \n",
            " 4   Hazard (Intensity)   3985 non-null   float64\n",
            " 5   Exposure             3985 non-null   float64\n",
            " 6   Housing              3985 non-null   float64\n",
            " 7   Poverty              3985 non-null   float64\n",
            " 8   Vulnerability        3985 non-null   float64\n",
            " 9   Severity             3985 non-null   float64\n",
            " 10  Severity Normalized  3985 non-null   float64\n",
            " 11  Severity category    3985 non-null   object \n",
            "dtypes: float64(7), object(5)\n",
            "memory usage: 373.8+ KB\n"
          ]
        }
      ]
    },
    {
      "cell_type": "code",
      "source": [
        "# shape of the dataset\n",
        "rows,columns = df.shape\n",
        "print(f\"Number of rows: {rows}, Number of columns: {columns}\")"
      ],
      "metadata": {
        "colab": {
          "base_uri": "https://localhost:8080/"
        },
        "id": "eg3XBR6j-oum",
        "outputId": "5259745c-1065-4df0-bf7a-83e32d1df7d3"
      },
      "execution_count": 7,
      "outputs": [
        {
          "output_type": "stream",
          "name": "stdout",
          "text": [
            "Number of rows: 3986, Number of columns: 12\n"
          ]
        }
      ]
    },
    {
      "cell_type": "code",
      "source": [
        "#columns of the dataset\n",
        "print(\"The columns of the dataset\")\n",
        "df.columns"
      ],
      "metadata": {
        "colab": {
          "base_uri": "https://localhost:8080/"
        },
        "id": "0uFO0tSU-sAA",
        "outputId": "bcfbd947-4c4b-4698-b7c6-aec932602517"
      },
      "execution_count": 8,
      "outputs": [
        {
          "output_type": "stream",
          "name": "stdout",
          "text": [
            "The columns of the dataset\n"
          ]
        },
        {
          "output_type": "execute_result",
          "data": {
            "text/plain": [
              "Index(['P_CODE', 'VDC_NAME', 'DISTRICT', 'REGION', 'Hazard (Intensity)',\n",
              "       'Exposure', 'Housing', 'Poverty', 'Vulnerability', 'Severity',\n",
              "       'Severity Normalized', 'Severity category'],\n",
              "      dtype='object')"
            ]
          },
          "metadata": {},
          "execution_count": 8
        }
      ]
    },
    {
      "cell_type": "code",
      "source": [
        "#data types\n",
        "print(\"Columns and their data types:\")\n",
        "df.dtypes"
      ],
      "metadata": {
        "colab": {
          "base_uri": "https://localhost:8080/",
          "height": 472
        },
        "id": "cX1EcBUb-uRi",
        "outputId": "a7b15726-e825-45ed-9eab-2fc794a53345"
      },
      "execution_count": 9,
      "outputs": [
        {
          "output_type": "stream",
          "name": "stdout",
          "text": [
            "Columns and their data types:\n"
          ]
        },
        {
          "output_type": "execute_result",
          "data": {
            "text/plain": [
              "P_CODE                  object\n",
              "VDC_NAME                object\n",
              "DISTRICT                object\n",
              "REGION                  object\n",
              "Hazard (Intensity)     float64\n",
              "Exposure               float64\n",
              "Housing                float64\n",
              "Poverty                float64\n",
              "Vulnerability          float64\n",
              "Severity               float64\n",
              "Severity Normalized    float64\n",
              "Severity category       object\n",
              "dtype: object"
            ],
            "text/html": [
              "<div>\n",
              "<style scoped>\n",
              "    .dataframe tbody tr th:only-of-type {\n",
              "        vertical-align: middle;\n",
              "    }\n",
              "\n",
              "    .dataframe tbody tr th {\n",
              "        vertical-align: top;\n",
              "    }\n",
              "\n",
              "    .dataframe thead th {\n",
              "        text-align: right;\n",
              "    }\n",
              "</style>\n",
              "<table border=\"1\" class=\"dataframe\">\n",
              "  <thead>\n",
              "    <tr style=\"text-align: right;\">\n",
              "      <th></th>\n",
              "      <th>0</th>\n",
              "    </tr>\n",
              "  </thead>\n",
              "  <tbody>\n",
              "    <tr>\n",
              "      <th>P_CODE</th>\n",
              "      <td>object</td>\n",
              "    </tr>\n",
              "    <tr>\n",
              "      <th>VDC_NAME</th>\n",
              "      <td>object</td>\n",
              "    </tr>\n",
              "    <tr>\n",
              "      <th>DISTRICT</th>\n",
              "      <td>object</td>\n",
              "    </tr>\n",
              "    <tr>\n",
              "      <th>REGION</th>\n",
              "      <td>object</td>\n",
              "    </tr>\n",
              "    <tr>\n",
              "      <th>Hazard (Intensity)</th>\n",
              "      <td>float64</td>\n",
              "    </tr>\n",
              "    <tr>\n",
              "      <th>Exposure</th>\n",
              "      <td>float64</td>\n",
              "    </tr>\n",
              "    <tr>\n",
              "      <th>Housing</th>\n",
              "      <td>float64</td>\n",
              "    </tr>\n",
              "    <tr>\n",
              "      <th>Poverty</th>\n",
              "      <td>float64</td>\n",
              "    </tr>\n",
              "    <tr>\n",
              "      <th>Vulnerability</th>\n",
              "      <td>float64</td>\n",
              "    </tr>\n",
              "    <tr>\n",
              "      <th>Severity</th>\n",
              "      <td>float64</td>\n",
              "    </tr>\n",
              "    <tr>\n",
              "      <th>Severity Normalized</th>\n",
              "      <td>float64</td>\n",
              "    </tr>\n",
              "    <tr>\n",
              "      <th>Severity category</th>\n",
              "      <td>object</td>\n",
              "    </tr>\n",
              "  </tbody>\n",
              "</table>\n",
              "</div><br><label><b>dtype:</b> object</label>"
            ]
          },
          "metadata": {},
          "execution_count": 9
        }
      ]
    },
    {
      "cell_type": "markdown",
      "source": [
        "**Data cleaning**"
      ],
      "metadata": {
        "id": "Vp9U3Qvd-0hA"
      }
    },
    {
      "cell_type": "code",
      "source": [
        "#Missing Values\n",
        "print(\"Missing values in each column:\")\n",
        "df.isnull().sum()"
      ],
      "metadata": {
        "colab": {
          "base_uri": "https://localhost:8080/",
          "height": 472
        },
        "id": "tDbULXDN-vd-",
        "outputId": "3fa13bcc-53a8-4f66-9b42-3dec30db0468"
      },
      "execution_count": 10,
      "outputs": [
        {
          "output_type": "stream",
          "name": "stdout",
          "text": [
            "Missing values in each column:\n"
          ]
        },
        {
          "output_type": "execute_result",
          "data": {
            "text/plain": [
              "P_CODE                 1\n",
              "VDC_NAME               1\n",
              "DISTRICT               1\n",
              "REGION                 1\n",
              "Hazard (Intensity)     1\n",
              "Exposure               1\n",
              "Housing                1\n",
              "Poverty                1\n",
              "Vulnerability          1\n",
              "Severity               1\n",
              "Severity Normalized    1\n",
              "Severity category      1\n",
              "dtype: int64"
            ],
            "text/html": [
              "<div>\n",
              "<style scoped>\n",
              "    .dataframe tbody tr th:only-of-type {\n",
              "        vertical-align: middle;\n",
              "    }\n",
              "\n",
              "    .dataframe tbody tr th {\n",
              "        vertical-align: top;\n",
              "    }\n",
              "\n",
              "    .dataframe thead th {\n",
              "        text-align: right;\n",
              "    }\n",
              "</style>\n",
              "<table border=\"1\" class=\"dataframe\">\n",
              "  <thead>\n",
              "    <tr style=\"text-align: right;\">\n",
              "      <th></th>\n",
              "      <th>0</th>\n",
              "    </tr>\n",
              "  </thead>\n",
              "  <tbody>\n",
              "    <tr>\n",
              "      <th>P_CODE</th>\n",
              "      <td>1</td>\n",
              "    </tr>\n",
              "    <tr>\n",
              "      <th>VDC_NAME</th>\n",
              "      <td>1</td>\n",
              "    </tr>\n",
              "    <tr>\n",
              "      <th>DISTRICT</th>\n",
              "      <td>1</td>\n",
              "    </tr>\n",
              "    <tr>\n",
              "      <th>REGION</th>\n",
              "      <td>1</td>\n",
              "    </tr>\n",
              "    <tr>\n",
              "      <th>Hazard (Intensity)</th>\n",
              "      <td>1</td>\n",
              "    </tr>\n",
              "    <tr>\n",
              "      <th>Exposure</th>\n",
              "      <td>1</td>\n",
              "    </tr>\n",
              "    <tr>\n",
              "      <th>Housing</th>\n",
              "      <td>1</td>\n",
              "    </tr>\n",
              "    <tr>\n",
              "      <th>Poverty</th>\n",
              "      <td>1</td>\n",
              "    </tr>\n",
              "    <tr>\n",
              "      <th>Vulnerability</th>\n",
              "      <td>1</td>\n",
              "    </tr>\n",
              "    <tr>\n",
              "      <th>Severity</th>\n",
              "      <td>1</td>\n",
              "    </tr>\n",
              "    <tr>\n",
              "      <th>Severity Normalized</th>\n",
              "      <td>1</td>\n",
              "    </tr>\n",
              "    <tr>\n",
              "      <th>Severity category</th>\n",
              "      <td>1</td>\n",
              "    </tr>\n",
              "  </tbody>\n",
              "</table>\n",
              "</div><br><label><b>dtype:</b> int64</label>"
            ]
          },
          "metadata": {},
          "execution_count": 10
        }
      ]
    },
    {
      "cell_type": "code",
      "source": [
        "# Filling missing values in categorical columns with the mode\n",
        "for column in ['P_CODE', 'VDC_NAME', 'DISTRICT', 'REGION', 'Severity category']:\n",
        "    df[column] = df[column].fillna(df[column].mode()[0])"
      ],
      "metadata": {
        "id": "-0H-K7EU-5BC"
      },
      "execution_count": 11,
      "outputs": []
    },
    {
      "cell_type": "code",
      "source": [
        "# Fill missing values in numerical columns with the mean\n",
        "for column in ['Hazard (Intensity)', 'Exposure', 'Housing', 'Poverty', 'Vulnerability', 'Severity', 'Severity Normalized']:\n",
        "    df[column] = df[column].fillna(df[column].mean())"
      ],
      "metadata": {
        "id": "e7BKrac8-65D"
      },
      "execution_count": 12,
      "outputs": []
    },
    {
      "cell_type": "code",
      "source": [
        "#Printing Missing Values after handling\n",
        "print(\"\\nMissing values after handling:\")\n",
        "print(df.isnull().sum())"
      ],
      "metadata": {
        "colab": {
          "base_uri": "https://localhost:8080/"
        },
        "id": "Adkahd7N-9K6",
        "outputId": "e5bdd81f-3eb5-4162-d1c7-08bc93e13a85"
      },
      "execution_count": 13,
      "outputs": [
        {
          "output_type": "stream",
          "name": "stdout",
          "text": [
            "\n",
            "Missing values after handling:\n",
            "P_CODE                 0\n",
            "VDC_NAME               0\n",
            "DISTRICT               0\n",
            "REGION                 0\n",
            "Hazard (Intensity)     0\n",
            "Exposure               0\n",
            "Housing                0\n",
            "Poverty                0\n",
            "Vulnerability          0\n",
            "Severity               0\n",
            "Severity Normalized    0\n",
            "Severity category      0\n",
            "dtype: int64\n"
          ]
        }
      ]
    },
    {
      "cell_type": "code",
      "source": [
        "#Duplicate values\n",
        "print(\"checking for the duplicates values\")\n",
        "df.duplicated().sum()"
      ],
      "metadata": {
        "colab": {
          "base_uri": "https://localhost:8080/"
        },
        "id": "Luk9IX9N_Qdh",
        "outputId": "004feb16-6fb4-404f-f6d0-f504ca0dfd89"
      },
      "execution_count": 14,
      "outputs": [
        {
          "output_type": "stream",
          "name": "stdout",
          "text": [
            "checking for the duplicates values\n"
          ]
        },
        {
          "output_type": "execute_result",
          "data": {
            "text/plain": [
              "0"
            ]
          },
          "metadata": {},
          "execution_count": 14
        }
      ]
    },
    {
      "cell_type": "code",
      "source": [
        "#Data scaling and Normalization\n",
        "\n",
        "# Select numeric columns\n",
        "numeric_cols = df.select_dtypes(include=['number']).columns\n",
        "from sklearn.preprocessing import MinMaxScaler, StandardScaler, RobustScaler\n",
        "# Create scalers\n",
        "minmax_scaler = MinMaxScaler()\n",
        "standard_scaler = StandardScaler()\n",
        "robust_scaler = RobustScaler()\n",
        "\n",
        "# Select numeric columns\n",
        "numeric_cols = df.select_dtypes(include=['number']).columns\n",
        "\n",
        "# Apply Robust scaling method\n",
        "df_robust = df.copy()\n",
        "df_robust[numeric_cols] = robust_scaler.fit_transform(df[numeric_cols])\n",
        "\n",
        "# Save scaled datasets\n",
        "df_robust.to_csv(\"robust_scaled.csv\", index=False)\n",
        "\n",
        "print(\"\\n Data Scaling & Normalization Completed!\")"
      ],
      "metadata": {
        "colab": {
          "base_uri": "https://localhost:8080/"
        },
        "id": "d6xrr2of_YSa",
        "outputId": "d6a7eef3-8dbc-413c-8f8c-474b5b13f8bf"
      },
      "execution_count": 15,
      "outputs": [
        {
          "output_type": "stream",
          "name": "stdout",
          "text": [
            "\n",
            " Data Scaling & Normalization Completed!\n"
          ]
        }
      ]
    },
    {
      "cell_type": "code",
      "source": [
        "# Compute Summary Statistics\n",
        "print(\"\\nSummary statistics of numerical features:\")\n",
        "print(df.describe())"
      ],
      "metadata": {
        "colab": {
          "base_uri": "https://localhost:8080/"
        },
        "id": "JtEAcbPf_qOk",
        "outputId": "ac6ca35a-1384-464a-cba0-2714f13e7b82"
      },
      "execution_count": 16,
      "outputs": [
        {
          "output_type": "stream",
          "name": "stdout",
          "text": [
            "\n",
            "Summary statistics of numerical features:\n",
            "       Hazard (Intensity)     Exposure      Housing      Poverty  \\\n",
            "count         3986.000000  3986.000000  3986.000000  3986.000000   \n",
            "mean             0.320537     0.067493     5.706522     5.481854   \n",
            "std              0.779839     0.187528     1.952792     2.270690   \n",
            "min              0.000000     0.000000     1.170000     0.000000   \n",
            "25%              0.000000     0.030000     4.640000     3.330000   \n",
            "50%              0.010000     0.050000     5.610000     5.620000   \n",
            "75%              0.130000     0.070000     6.850000     7.350000   \n",
            "max             10.000000    10.000000     9.940000    10.000000   \n",
            "\n",
            "       Vulnerability     Severity  Severity Normalized  \n",
            "count    3986.000000  3986.000000          3986.000000  \n",
            "mean        5.594635     0.248720             0.510221  \n",
            "std         1.450635     0.298718             0.612575  \n",
            "min         1.620000     0.000000             0.000000  \n",
            "25%         4.590000     0.050000             0.094125  \n",
            "50%         5.550000     0.140000             0.286400  \n",
            "75%         6.660000     0.360000             0.744350  \n",
            "max         8.830000     4.880000            10.000000  \n"
          ]
        }
      ]
    },
    {
      "cell_type": "code",
      "source": [
        "# Print value counts for selected categorical features\n",
        "print(\"\\nValue counts for categorical features:\")\n",
        "\n",
        "# Iterate over the specified categorical columns and display their value counts\n",
        "for col in ['DISTRICT', 'REGION', 'Severity category']:\n",
        "    print(f\"\\n{col}:\\n{df[col].value_counts()}\")\n"
      ],
      "metadata": {
        "colab": {
          "base_uri": "https://localhost:8080/"
        },
        "id": "QemTh8yQ_syx",
        "outputId": "156e348e-2f99-43ee-e1ca-8049cac1bf59"
      },
      "execution_count": 17,
      "outputs": [
        {
          "output_type": "stream",
          "name": "stdout",
          "text": [
            "\n",
            "Value counts for categorical features:\n",
            "\n",
            "DISTRICT:\n",
            "DISTRICT\n",
            "Saptari       117\n",
            "Siraha        108\n",
            "Dhanusa       102\n",
            "Sarlahi       100\n",
            "Bara           99\n",
            "             ... \n",
            "Dadeldhura     21\n",
            "Rasuwa         18\n",
            "Bhaktapur      18\n",
            "Mustang        16\n",
            "Manang         13\n",
            "Name: count, Length: 75, dtype: int64\n",
            "\n",
            "REGION:\n",
            "REGION\n",
            "Central        1222\n",
            "Eastern         909\n",
            "Western         879\n",
            "Mid-Western     582\n",
            "Far-Western     394\n",
            "Name: count, dtype: int64\n",
            "\n",
            "Severity category:\n",
            "Severity category\n",
            "Lowest         1894\n",
            "Low             800\n",
            "Medium-Low      672\n",
            "Medium-High     433\n",
            "High            168\n",
            "Highest          19\n",
            "Name: count, dtype: int64\n"
          ]
        }
      ]
    },
    {
      "cell_type": "markdown",
      "source": [
        "Exploratory data analysis (EDA) was conducted on the Nepal Earthquake Severity Index dataset. This involved loading the dataset, checking its structure, and addressing missing values by filling numerical columns with their mean and categorical columns with their mode. we also did data scaling and normalization .Summary statistics were calculated to understand the data distribution, and the frequency of categorical variables was examined. As a result, the dataset was cleaned and prepared for further analysis, providing insights into key factors affecting earthquake severity and laying the groundwork for building a classification model to assess disaster risk."
      ],
      "metadata": {
        "id": "MPmwQXg9_x48"
      }
    },
    {
      "cell_type": "markdown",
      "source": [
        "# **Data Visualizations**"
      ],
      "metadata": {
        "id": "xU7X-CGcAB1F"
      }
    },
    {
      "cell_type": "code",
      "source": [
        "# Data Exploration and Visualization\n",
        "# Histograms of numerical features\n",
        "numerical_cols = ['Hazard (Intensity)', 'Exposure', 'Housing', 'Poverty', 'Vulnerability', 'Severity', 'Severity Normalized']\n",
        "df[numerical_cols].hist(figsize=(10, 8))\n",
        "plt.suptitle(\"Histograms of Numerical Features\", fontsize=16)\n",
        "plt.show()"
      ],
      "metadata": {
        "colab": {
          "base_uri": "https://localhost:8080/",
          "height": 570
        },
        "id": "jo7mwb_RABS2",
        "outputId": "56ea1605-d864-4718-edc0-f1b78d2a9df9"
      },
      "execution_count": 18,
      "outputs": [
        {
          "output_type": "display_data",
          "data": {
            "text/plain": [
              "<Figure size 1000x800 with 9 Axes>"
            ],
            "image/png": "[encoded data removed]"
          },
          "metadata": {}
        }
      ]
    },
    {
      "cell_type": "markdown",
      "source": [
        "The histograms of the numerical features provide valuable insights into the distribution and characteristics of each variable in the Nepal Earthquake Severity Index dataset.\n",
        "\n",
        "The **Hazard (Intensity)** histogram reveals that most values are concentrated at the lower end of the scale, indicating that high-intensity hazards are relatively rare. This suggests that severe hazards are not common across the dataset.\n",
        "\n",
        "For **Exposure**, the distribution is skewed towards lower values, with a noticeable peak near zero. This implies that many areas have minimal exposure to earthquake risks, with only a few regions experiencing higher levels of exposure.\n",
        "\n",
        "The **Housing** histogram shows a more uniform distribution, with values spread across the range. This indicates significant variability in housing vulnerability, with some areas being much more vulnerable than others.\n",
        "\n",
        "In the case of **Poverty**, the distribution is also skewed towards lower values, suggesting that extreme poverty levels are less common. Most areas exhibit moderate poverty levels, with fewer instances of severe poverty.\n",
        "\n",
        "The **Vulnerability** histogram displays a relatively normal distribution, with most values clustered around the middle range. This indicates that vulnerability levels are fairly balanced across the dataset, without extreme outliers.\n",
        "\n",
        "For **Severity**, the distribution is skewed towards lower values, with a peak at the lower end. This suggests that most areas experience lower severity levels, with fewer regions facing high severity.\n",
        "\n",
        "Similarly, the **Severity Normalized** histogram shows a concentration of values at the lower end, indicating that normalized severity scores are generally low, with fewer instances of high severity.\n",
        "\n",
        "Overall, these histograms highlight that most areas in the dataset have lower levels of hazard intensity, exposure, poverty, and severity. Housing vulnerability, however, shows more variability. These insights can help identify areas that may require more attention and resources for disaster risk reduction efforts."
      ],
      "metadata": {
        "id": "Ns9COGn3HlJm"
      }
    },
    {
      "cell_type": "code",
      "source": [
        "# Box plots of numerical features vs. Severity Category\n",
        "for col in numerical_cols:\n",
        "    plt.figure(figsize=(8, 6))\n",
        "    sns.boxplot(x='Severity category', y=col, data=df, palette='viridis')\n",
        "    plt.title(f'{col} vs. Severity Category')\n",
        "    plt.show()\n"
      ],
      "metadata": {
        "colab": {
          "base_uri": "https://localhost:8080/",
          "height": 1000
        },
        "id": "PUxZHm3EHkav",
        "outputId": "a4136303-1a80-4d72-cce4-94ae2c9fdf8c"
      },
      "execution_count": 19,
      "outputs": [
        {
          "output_type": "stream",
          "name": "stderr",
          "text": [
            "<ipython-input-19-30c10588391f>:4: FutureWarning: \n",
            "\n",
            "Passing `palette` without assigning `hue` is deprecated and will be removed in v0.14.0. Assign the `x` variable to `hue` and set `legend=False` for the same effect.\n",
            "\n",
            "  sns.boxplot(x='Severity category', y=col, data=df, palette='viridis')\n"
          ]
        },
        {
          "output_type": "display_data",
          "data": {
            "text/plain": [
              "<Figure size 800x600 with 1 Axes>"
            ],
            "image/png": "[encoded data removed]"
          },
          "metadata": {}
        },
        {
          "output_type": "stream",
          "name": "stderr",
          "text": [
            "<ipython-input-19-30c10588391f>:4: FutureWarning: \n",
            "\n",
            "Passing `palette` without assigning `hue` is deprecated and will be removed in v0.14.0. Assign the `x` variable to `hue` and set `legend=False` for the same effect.\n",
            "\n",
            "  sns.boxplot(x='Severity category', y=col, data=df, palette='viridis')\n"
          ]
        },
        {
          "output_type": "display_data",
          "data": {
            "text/plain": [
              "<Figure size 800x600 with 1 Axes>"
            ],
            "image/png": "[encoded data removed]"
          },
          "metadata": {}
        },
        {
          "output_type": "stream",
          "name": "stderr",
          "text": [
            "<ipython-input-19-30c10588391f>:4: FutureWarning: \n",
            "\n",
            "Passing `palette` without assigning `hue` is deprecated and will be removed in v0.14.0. Assign the `x` variable to `hue` and set `legend=False` for the same effect.\n",
            "\n",
            "  sns.boxplot(x='Severity category', y=col, data=df, palette='viridis')\n"
          ]
        },
        {
          "output_type": "display_data",
          "data": {
            "text/plain": [
              "<Figure size 800x600 with 1 Axes>"
            ],
            "image/png": "[encoded data removed]"
          },
          "metadata": {}
        },
        {
          "output_type": "stream",
          "name": "stderr",
          "text": [
            "<ipython-input-19-30c10588391f>:4: FutureWarning: \n",
            "\n",
            "Passing `palette` without assigning `hue` is deprecated and will be removed in v0.14.0. Assign the `x` variable to `hue` and set `legend=False` for the same effect.\n",
            "\n",
            "  sns.boxplot(x='Severity category', y=col, data=df, palette='viridis')\n"
          ]
        },
        {
          "output_type": "display_data",
          "data": {
            "text/plain": [
              "<Figure size 800x600 with 1 Axes>"
            ],
            "image/png": "[encoded data removed]"
          },
          "metadata": {}
        },
        {
          "output_type": "stream",
          "name": "stderr",
          "text": [
            "<ipython-input-19-30c10588391f>:4: FutureWarning: \n",
            "\n",
            "Passing `palette` without assigning `hue` is deprecated and will be removed in v0.14.0. Assign the `x` variable to `hue` and set `legend=False` for the same effect.\n",
            "\n",
            "  sns.boxplot(x='Severity category', y=col, data=df, palette='viridis')\n"
          ]
        },
        {
          "output_type": "display_data",
          "data": {
            "text/plain": [
              "<Figure size 800x600 with 1 Axes>"
            ],
            "image/png": "[encoded data removed]"
          },
          "metadata": {}
        },
        {
          "output_type": "stream",
          "name": "stderr",
          "text": [
            "<ipython-input-19-30c10588391f>:4: FutureWarning: \n",
            "\n",
            "Passing `palette` without assigning `hue` is deprecated and will be removed in v0.14.0. Assign the `x` variable to `hue` and set `legend=False` for the same effect.\n",
            "\n",
            "  sns.boxplot(x='Severity category', y=col, data=df, palette='viridis')\n"
          ]
        },
        {
          "output_type": "display_data",
          "data": {
            "text/plain": [
              "<Figure size 800x600 with 1 Axes>"
            ],
            "image/png": "[encoded data removed]"
          },
          "metadata": {}
        },
        {
          "output_type": "stream",
          "name": "stderr",
          "text": [
            "<ipython-input-19-30c10588391f>:4: FutureWarning: \n",
            "\n",
            "Passing `palette` without assigning `hue` is deprecated and will be removed in v0.14.0. Assign the `x` variable to `hue` and set `legend=False` for the same effect.\n",
            "\n",
            "  sns.boxplot(x='Severity category', y=col, data=df, palette='viridis')\n"
          ]
        },
        {
          "output_type": "display_data",
          "data": {
            "text/plain": [
              "<Figure size 800x600 with 1 Axes>"
            ],
            "image/png": "[encoded data removed]"
          },
          "metadata": {}
        }
      ]
    },
    {
      "cell_type": "markdown",
      "source": [
        "The box plots provide valuable insights into how various numerical features relate to the **Severity Category** in the Nepal Earthquake Severity Index dataset.\n",
        "\n",
        "Starting with **Hazard (Intensity) vs. Severity Category**, the plot reveals that higher hazard intensity is associated with higher severity categories. Areas classified as \"Highest\" or \"High\" in severity tend to experience greater hazard intensity, while lower severity categories correspond to lower hazard levels. This indicates that hazard intensity is a key factor in determining the severity of earthquake impacts.\n",
        "\n",
        "Next, the **Exposure vs. Severity Category** plot shows that exposure levels increase with higher severity categories. Regions with \"Highest\" or \"High\" severity are more exposed to earthquake risks, suggesting that greater exposure contributes to more severe outcomes.\n",
        "\n",
        "The **Housing vs. Severity Category** plot highlights a clear trend: higher housing vulnerability is linked to higher severity categories. This implies that areas with weaker housing structures are more likely to suffer severe damage during earthquakes.\n",
        "\n",
        "In the **Poverty vs. Severity Category** plot, higher poverty levels are observed in areas with greater severity. This suggests that economic conditions play a significant role in exacerbating the impacts of earthquakes, as poorer regions may lack the resources to mitigate risks effectively.\n",
        "\n",
        "The **Vulnerability vs. Severity Category** plot further supports this, showing that overall vulnerability increases with higher severity categories. Areas with the highest severity are more vulnerable, emphasizing that vulnerability is a critical factor in determining the severity of earthquake impacts.\n",
        "\n",
        "The **Severity vs. Severity Category** plot confirms that the severity score aligns well with the assigned categories. Higher severity scores are consistently associated with \"Highest\" and \"High\" categories, validating the reliability of the severity score as an indicator of impact.\n",
        "\n",
        "Finally, the **Severity Normalized vs. Severity Category** plot mirrors this trend, with normalized severity values increasing in higher severity categories. This consistency reinforces the accuracy of the severity classification system.\n",
        "\n",
        "### Summary:  \n",
        "These box plots demonstrate strong relationships between key features—hazard intensity, exposure, housing vulnerability, poverty, vulnerability, severity, and normalized severity—and the severity categories. Higher values in these features generally correspond to higher severity levels, highlighting their importance in assessing and predicting earthquake impacts. These insights can help identify high-risk areas and guide targeted interventions to reduce disaster risks effectively."
      ],
      "metadata": {
        "id": "3MvK5DW3HwmY"
      }
    },
    {
      "cell_type": "code",
      "source": [
        "# Count plot of Severity Category\n",
        "plt.figure(figsize=(8, 6))\n",
        "sns.countplot(x='Severity category', data=df, palette='Set2')\n",
        "plt.xlabel('Severity Category')\n",
        "plt.ylabel('Count')\n",
        "plt.title('Distribution of Severity Category')\n",
        "plt.show()"
      ],
      "metadata": {
        "colab": {
          "base_uri": "https://localhost:8080/",
          "height": 611
        },
        "id": "Sj7HJkn4HxO1",
        "outputId": "445f0ee4-10b5-48d7-8beb-0b4fb6fb54cf"
      },
      "execution_count": 20,
      "outputs": [
        {
          "output_type": "stream",
          "name": "stderr",
          "text": [
            "<ipython-input-20-fa974dfa3ca1>:3: FutureWarning: \n",
            "\n",
            "Passing `palette` without assigning `hue` is deprecated and will be removed in v0.14.0. Assign the `x` variable to `hue` and set `legend=False` for the same effect.\n",
            "\n",
            "  sns.countplot(x='Severity category', data=df, palette='Set2')\n"
          ]
        },
        {
          "output_type": "display_data",
          "data": {
            "text/plain": [
              "<Figure size 800x600 with 1 Axes>"
            ],
            "image/png": "[encoded data removed]"
          },
          "metadata": {}
        }
      ]
    },
    {
      "cell_type": "markdown",
      "source": [
        "The **Distribution of Severity Category** plot offers a clear view of how earthquake severity is distributed across the dataset. It shows the frequency (count) of each severity category, ranging from \"Lowest\" to \"Highest.\" The \"Lowest\" category has the highest count, indicating that the majority of areas in the dataset are classified as having the least severe earthquake impacts. As the severity increases, the number of areas decreases, with fewer regions falling into the \"Low,\" \"Medium-Low,\" \"Medium-High,\" \"High,\" and \"Highest\" categories. Notably, the \"Highest\" category has the smallest count, reflecting that only a very small number of areas experience the most severe earthquake impacts.\n",
        "\n",
        "This distribution reveals that most areas in the dataset are at lower risk, with a gradual decline in the number of areas as severity increases. The rarity of areas in the \"Highest\" category highlights the limited but critical regions that face extreme earthquake impacts. This insight is crucial for prioritizing resources and interventions, as it helps identify the areas most at risk and in need of urgent attention to mitigate disaster risks effectively."
      ],
      "metadata": {
        "id": "ypQqJEzOH4fE"
      }
    },
    {
      "cell_type": "code",
      "source": [
        "# Correlation heatmap\n",
        "plt.figure(figsize=(10, 8))\n",
        "corr_matrix = df[numerical_cols].corr()\n",
        "sns.heatmap(corr_matrix, annot=True, cmap='coolwarm')\n",
        "plt.title('Correlation Heatmap of Numerical Features')\n",
        "plt.show()"
      ],
      "metadata": {
        "colab": {
          "base_uri": "https://localhost:8080/",
          "height": 580
        },
        "id": "sTfSIDMdH3dt",
        "outputId": "0fe5d99e-ec6d-4436-fd69-18bb5d9da609"
      },
      "execution_count": 21,
      "outputs": [
        {
          "output_type": "display_data",
          "data": {
            "text/plain": [
              "<Figure size 1000x800 with 2 Axes>"
            ],
            "image/png": "[encoded data removed]"
          },
          "metadata": {}
        }
      ]
    },
    {
      "cell_type": "markdown",
      "source": [
        "The **Correlation Heatmap of Numerical Features** provides valuable insights into the relationships between different variables in the Nepal Earthquake Severity Index dataset.\n",
        "\n",
        "**Hazard (Intensity)** shows a strong positive correlation with both **Severity** and **Severity Normalized** (0.78), indicating that higher hazard intensity is closely linked to increased earthquake severity. This makes hazard intensity a key factor in determining the impact of earthquakes. On the other hand, **Exposure** has a moderate positive correlation with severity (0.35), suggesting that areas with higher exposure to risks are more likely to experience severe impacts. However, exposure has very weak correlations with other variables like **Housing** and **Vulnerability**.\n",
        "\n",
        "**Housing** vulnerability is strongly correlated with overall **Vulnerability** (0.62), meaning that areas with more vulnerable housing structures tend to be more vulnerable in general. However, housing shows only weak correlations with severity, indicating that while it contributes to vulnerability, its direct impact on severity is limited. Similarly, **Poverty** has a strong positive correlation with vulnerability (0.74), highlighting that higher poverty levels exacerbate overall vulnerability. Poverty also shows a weak negative correlation with hazard intensity and severity, suggesting that economic conditions indirectly influence earthquake impacts.\n",
        "\n",
        "**Vulnerability** itself is strongly influenced by both poverty and housing vulnerability, but it has very weak correlations with severity. This implies that while vulnerability is an important factor, it is not the primary driver of severity. Instead, **Hazard (Intensity)** and **Exposure** play more direct roles in determining the severity of earthquake impacts.\n",
        "\n",
        "In conclusion, the heatmap reveals that **Hazard (Intensity)** and **Exposure** are the most significant factors influencing earthquake severity, with hazard intensity being the strongest predictor. **Housing** and **Poverty** are important contributors to overall vulnerability but have a weaker direct impact on severity. These insights can guide risk assessment and mitigation strategies, emphasizing the need to address hazard intensity and exposure while also tackling housing vulnerability and poverty to reduce overall vulnerability in high-risk areas."
      ],
      "metadata": {
        "id": "Y4qISdS5H_9z"
      }
    },
    {
      "cell_type": "markdown",
      "source": [
        "# **Building Model from Scratch**"
      ],
      "metadata": {
        "id": "X9CvQysMIDCM"
      }
    },
    {
      "cell_type": "markdown",
      "source": [
        "**Handling Imbalance class**"
      ],
      "metadata": {
        "id": "xM45AhEqGkzL"
      }
    },
    {
      "cell_type": "code",
      "source": [
        "from imblearn.over_sampling import SMOTE\n",
        "import numpy as np  # Import numpy for argmax\n",
        "\n",
        "# Apply SMOTE to handle class imbalance\n",
        "smote = SMOTE(random_state=42)\n",
        "\n",
        "# Assuming y_train is one-hot encoded, get labels using argmax\n",
        "y_train_labels = np.argmax(y_train, axis=1)\n",
        "\n",
        "# Resample the training set\n",
        "X_train_resampled, y_train_resampled = smote.fit_resample(X_train, y_train_labels)\n",
        "\n",
        "# One-hot encode the resampled labels\n",
        "y_train_resampled_onehot = one_hot_encode(y_train_resampled, len(unique_classes))"
      ],
      "metadata": {
        "id": "ZkcuTWiFi2qi"
      },
      "execution_count": 29,
      "outputs": []
    },
    {
      "cell_type": "code",
      "source": [
        "import numpy as np\n",
        "import pandas as pd\n",
        "from sklearn.model_selection import train_test_split\n",
        "from sklearn.preprocessing import StandardScaler\n",
        "from sklearn.metrics import accuracy_score, classification_report\n",
        "\n",
        "class LogisticRegressionScratch:\n",
        "    def __init__(self, learning_rate=0.01, num_iterations=1000):\n",
        "        \"\"\"\n",
        "        Multi-class Logistic Regression using Softmax.\n",
        "        :param learning_rate: Step size for gradient descent.\n",
        "        :param num_iterations: Number of iterations for training.\n",
        "        \"\"\"\n",
        "        self.learning_rate = learning_rate\n",
        "        self.num_iterations = num_iterations\n",
        "        self.weights = None\n",
        "        self.bias = None\n",
        "\n",
        "    def _softmax(self, z):\n",
        "        \"\"\"\n",
        "        Compute the softmax activation function.\n",
        "        \"\"\"\n",
        "        exp_z = np.exp(np.clip(z - np.max(z, axis=1, keepdims=True), -500, 500))  # Numerical stability\n",
        "        return exp_z / np.sum(exp_z, axis=1, keepdims=True)\n",
        "\n",
        "    def fit(self, X, y):\n",
        "        \"\"\"\n",
        "        Train the logistic regression model using gradient descent.\n",
        "        :param X: Feature matrix (num_samples, num_features).\n",
        "        :param y: One-hot encoded target labels (num_samples, num_classes).\n",
        "        \"\"\"\n",
        "        num_samples, num_features = X.shape\n",
        "        num_classes = y.shape[1]\n",
        "\n",
        "        # Initialize weights & bias\n",
        "        self.weights = np.zeros((num_classes, num_features))\n",
        "        self.bias = np.zeros((num_classes, 1))\n",
        "\n",
        "        # Gradient Descent\n",
        "        for _ in range(self.num_iterations):\n",
        "            linear_model = np.dot(X, self.weights.T) + self.bias.T\n",
        "            predictions = self._softmax(linear_model)\n",
        "\n",
        "            # Compute gradients\n",
        "            dw = (1 / num_samples) * np.dot((predictions - y).T, X)\n",
        "            db = (1 / num_samples) * np.sum(predictions - y, axis=0, keepdims=True).T  # Keep bias as (num_classes, 1)\n",
        "\n",
        "            # Update weights & bias\n",
        "            self.weights -= self.learning_rate * dw\n",
        "            self.bias -= self.learning_rate * db\n",
        "\n",
        "    def predict_proba(self, X):\n",
        "        \"\"\"\n",
        "        Predict class probabilities.\n",
        "        :param X: Feature matrix.\n",
        "        :return: Probability distributions for each class.\n",
        "        \"\"\"\n",
        "        linear_model = np.dot(X, self.weights.T) + self.bias.T\n",
        "        return self._softmax(linear_model)\n",
        "\n",
        "    def predict(self, X):\n",
        "        \"\"\"\n",
        "        Predict class labels.\n",
        "        :param X: Feature matrix.\n",
        "        :return: Predicted class labels.\n",
        "        \"\"\"\n",
        "        probabilities = self.predict_proba(X)\n",
        "        return np.argmax(probabilities, axis=1)\n",
        "\n",
        "\n",
        "# Load and preprocess data\n",
        "df['Severity category'] = df['Severity category'].astype(str).fillna(\"Unknown\")\n",
        "\n",
        "# Convert categorical labels to numerical indices\n",
        "unique_classes = sorted(df['Severity category'].unique())\n",
        "class_to_index = {cls: i for i, cls in enumerate(unique_classes)}\n",
        "y_numeric = np.array([class_to_index[cls] for cls in df['Severity category']])\n",
        "\n",
        "# One-hot encode labels efficiently\n",
        "def one_hot_encode(y, num_classes):\n",
        "    one_hot = np.zeros((y.shape[0], num_classes))\n",
        "    for i, label in enumerate(y):\n",
        "        one_hot[i, label] = 1\n",
        "    return one_hot\n",
        "\n",
        "y = one_hot_encode(y_numeric, len(unique_classes))\n",
        "\n",
        "# Select features\n",
        "X = df[['Hazard (Intensity)', 'Exposure', 'Housing', 'Poverty', 'Vulnerability', 'Severity Normalized']].values\n",
        "\n",
        "# Split dataset into training & test sets\n",
        "X_train, X_test, y_train, y_test = train_test_split(X, y, test_size=0.2, random_state=42)\n",
        "\n",
        "# Standardize features\n",
        "scaler = StandardScaler()\n",
        "X_train = scaler.fit_transform(X_train)\n",
        "X_test = scaler.transform(X_test)\n",
        "\n",
        "# Train the model with the resampled data\n",
        "model = LogisticRegressionScratch(learning_rate=0.01, num_iterations=1000)\n",
        "model.fit(X_train_resampled, y_train_resampled_onehot)\n",
        "\n",
        "# Make predictions with the resampled data\n",
        "predictions_train = model.predict(X_train_resampled)  # Use X_train_resampled for train predictions\n",
        "predictions_test = model.predict(X_test)\n",
        "\n",
        "\n",
        "# Convert one-hot encoded y back to class labels\n",
        "y_train_labels = np.argmax(y_train, axis=1)\n",
        "y_test_labels = np.argmax(y_test, axis=1)\n",
        "\n",
        "# Evaluate model using the correct labels for training accuracy\n",
        "accuracy_train = accuracy_score(y_train_resampled, predictions_train) # use y_train_resampled\n",
        "accuracy_test = accuracy_score(y_test_labels, predictions_test)\n",
        "\n",
        "report_train = classification_report(y_train_resampled, predictions_train) # use y_train_resampled\n",
        "report_test = classification_report(y_test_labels, predictions_test)\n",
        "\n",
        "# Print results\n",
        "print(\"Logistic Regression (Softmax) from Scratch:\")\n",
        "print(f\"Train Accuracy: {accuracy_train:.4f}\")\n",
        "print(f\"Train Classification Report:\\n{report_train}\")\n",
        "print(f\"Test Accuracy: {accuracy_test:.4f}\")\n",
        "print(f\"Test Classification Report:\\n{report_test}\")\n"
      ],
      "metadata": {
        "colab": {
          "base_uri": "https://localhost:8080/"
        },
        "id": "RHPS9ORrH_YV",
        "outputId": "d27f9c6c-6b17-4470-f19b-d06c9e59ebbe"
      },
      "execution_count": 30,
      "outputs": [
        {
          "output_type": "stream",
          "name": "stdout",
          "text": [
            "Logistic Regression (Softmax) from Scratch:\n",
            "Train Accuracy: 0.6726\n",
            "Train Classification Report:\n",
            "              precision    recall  f1-score   support\n",
            "\n",
            "           0       0.61      0.92      0.73      1527\n",
            "           1       0.91      0.94      0.93      1527\n",
            "           2       0.58      0.26      0.36      1527\n",
            "           3       0.61      0.84      0.71      1527\n",
            "           4       0.72      0.36      0.48      1527\n",
            "           5       0.63      0.72      0.67      1527\n",
            "\n",
            "    accuracy                           0.67      9162\n",
            "   macro avg       0.68      0.67      0.65      9162\n",
            "weighted avg       0.68      0.67      0.65      9162\n",
            "\n",
            "Test Accuracy: 0.6541\n",
            "Test Classification Report:\n",
            "              precision    recall  f1-score   support\n",
            "\n",
            "           0       0.43      0.90      0.58        40\n",
            "           1       0.12      0.20      0.15         5\n",
            "           2       0.47      0.28      0.35       159\n",
            "           3       0.81      0.85      0.83       367\n",
            "           4       0.58      0.37      0.45        98\n",
            "           5       0.56      0.71      0.63       129\n",
            "\n",
            "    accuracy                           0.65       798\n",
            "   macro avg       0.50      0.55      0.50       798\n",
            "weighted avg       0.65      0.65      0.64       798\n",
            "\n"
          ]
        }
      ]
    },
    {
      "cell_type": "markdown",
      "source": [
        "The above logistic regression model was developed from scratch, specifically designed for multi-class classification using the Softmax function. The process began by converting the 'Severity category' into numerical labels and applying one-hot encoding to prepare the target variable. Key features were selected and standardized using StandardScaler to ensure consistent scaling. The dataset was then split into training and test sets to evaluate the model's performance.\n",
        "\n",
        "The model was initialized with a learning rate of 0.01 and trained over 1000 iterations using gradient descent. During training, the weights and biases were updated iteratively to minimize the loss function. Predictions were made by applying the Softmax function to the linear model outputs, and the final class labels were determined by selecting the highest probability.\n",
        "\n",
        "Evaluation metrics revealed that the model achieved an accuracy of 73.62% on the training set and 72.93% on the test set. While it performed well for classes 3, 4, and 5, it struggled significantly with classes 0 and 1, which had precision, recall, and F1-scores of 0.00, indicating poor performance on these minority classes. Overall, the model demonstrates reasonable effectiveness but could benefit from further refinement, such as feature engineering, hyperparameter tuning, or exploring more advanced techniques, to improve its ability to classify underrepresented classes."
      ],
      "metadata": {
        "id": "mjngbHTPKN9Z"
      }
    },
    {
      "cell_type": "markdown",
      "source": [
        "# **Primary Model Building**"
      ],
      "metadata": {
        "id": "wnzAKPK_MPz-"
      }
    },
    {
      "cell_type": "code",
      "source": [
        "# Select features and target\n",
        "X = df[['Hazard (Intensity)', 'Exposure', 'Housing', 'Poverty', 'Vulnerability', 'Severity Normalized']].values\n",
        "y = df['Severity category'].values"
      ],
      "metadata": {
        "id": "2_eic6QJKuKI"
      },
      "execution_count": 31,
      "outputs": []
    },
    {
      "cell_type": "code",
      "source": [
        "# 1.Split the data into training and testing sets\n",
        "X_train, X_test, y_train, y_test = train_test_split(X, y, test_size=0.2, random_state=42)"
      ],
      "metadata": {
        "id": "vllOMA2tKNrL"
      },
      "execution_count": 32,
      "outputs": []
    },
    {
      "cell_type": "code",
      "source": [
        "# Handle outliers in numerical features (data pruning)\n",
        "numerical_cols = ['Hazard (Intensity)', 'Exposure', 'Housing', 'Poverty', 'Vulnerability', 'Severity Normalized']\n",
        "for col in numerical_cols:\n",
        "    upper_limit = df[col].quantile(0.99)  # 99th percentile\n",
        "    X_train[:, numerical_cols.index(col)] = np.where(X_train[:, numerical_cols.index(col)] > upper_limit,\n",
        "                                                       upper_limit, X_train[:, numerical_cols.index(col)])\n",
        "    X_test[:, numerical_cols.index(col)] = np.where(X_test[:, numerical_cols.index(col)] > upper_limit,\n",
        "                                                      upper_limit, X_test[:, numerical_cols.index(col)])\n"
      ],
      "metadata": {
        "id": "8kQ1ORC5OvAU"
      },
      "execution_count": 33,
      "outputs": []
    },
    {
      "cell_type": "code",
      "source": [
        "# Impute missing values in X_train and X_test using SimpleImputer\n",
        "imputer = SimpleImputer(strategy='mean')\n",
        "X_train = imputer.fit_transform(X_train)\n",
        "X_test = imputer.transform(X_test)\n"
      ],
      "metadata": {
        "id": "FLlG4443Ou-X"
      },
      "execution_count": 34,
      "outputs": []
    },
    {
      "cell_type": "code",
      "source": [
        "# Standardize features\n",
        "scaler = StandardScaler()\n",
        "X_train = scaler.fit_transform(X_train)\n",
        "X_test = scaler.transform(X_test)"
      ],
      "metadata": {
        "id": "gqzAxULPO_c2"
      },
      "execution_count": 35,
      "outputs": []
    },
    {
      "cell_type": "code",
      "source": [
        "# Initialize the models\n",
        "logistic_regression = LogisticRegression(random_state=42, solver='liblinear', multi_class='ovr')\n",
        "random_forest = RandomForestClassifier(random_state=42)"
      ],
      "metadata": {
        "id": "MdJxsLbPPETe"
      },
      "execution_count": 36,
      "outputs": []
    },
    {
      "cell_type": "code",
      "source": [
        "# Train the models directly with y_train (1D array of labels)\n",
        "logistic_regression.fit(X_train, y_train)\n",
        "random_forest.fit(X_train, y_train)"
      ],
      "metadata": {
        "colab": {
          "base_uri": "https://localhost:8080/",
          "height": 134
        },
        "id": "KU2qDI53PERR",
        "outputId": "31bcc7c1-7c74-4770-a931-94a3d42f28e3"
      },
      "execution_count": 37,
      "outputs": [
        {
          "output_type": "stream",
          "name": "stderr",
          "text": [
            "/usr/local/lib/python3.11/dist-packages/sklearn/linear_model/_logistic.py:1256: FutureWarning: 'multi_class' was deprecated in version 1.5 and will be removed in 1.7. Use OneVsRestClassifier(LogisticRegression(..)) instead. Leave it to its default value to avoid this warning.\n",
            "  warnings.warn(\n"
          ]
        },
        {
          "output_type": "execute_result",
          "data": {
            "text/plain": [
              "RandomForestClassifier(random_state=42)"
            ],
            "text/html": [
              "<style>#sk-container-id-1 {\n",
              "  /* Definition of color scheme common for light and dark mode */\n",
              "  --sklearn-color-text: #000;\n",
              "  --sklearn-color-text-muted: #666;\n",
              "  --sklearn-color-line: gray;\n",
              "  /* Definition of color scheme for unfitted estimators */\n",
              "  --sklearn-color-unfitted-level-0: #fff5e6;\n",
              "  --sklearn-color-unfitted-level-1: #f6e4d2;\n",
              "  --sklearn-color-unfitted-level-2: #ffe0b3;\n",
              "  --sklearn-color-unfitted-level-3: chocolate;\n",
              "  /* Definition of color scheme for fitted estimators */\n",
              "  --sklearn-color-fitted-level-0: #f0f8ff;\n",
              "  --sklearn-color-fitted-level-1: #d4ebff;\n",
              "  --sklearn-color-fitted-level-2: #b3dbfd;\n",
              "  --sklearn-color-fitted-level-3: cornflowerblue;\n",
              "\n",
              "  /* Specific color for light theme */\n",
              "  --sklearn-color-text-on-default-background: var(--sg-text-color, var(--theme-code-foreground, var(--jp-content-font-color1, black)));\n",
              "  --sklearn-color-background: var(--sg-background-color, var(--theme-background, var(--jp-layout-color0, white)));\n",
              "  --sklearn-color-border-box: var(--sg-text-color, var(--theme-code-foreground, var(--jp-content-font-color1, black)));\n",
              "  --sklearn-color-icon: #696969;\n",
              "\n",
              "  @media (prefers-color-scheme: dark) {\n",
              "    /* Redefinition of color scheme for dark theme */\n",
              "    --sklearn-color-text-on-default-background: var(--sg-text-color, var(--theme-code-foreground, var(--jp-content-font-color1, white)));\n",
              "    --sklearn-color-background: var(--sg-background-color, var(--theme-background, var(--jp-layout-color0, #111)));\n",
              "    --sklearn-color-border-box: var(--sg-text-color, var(--theme-code-foreground, var(--jp-content-font-color1, white)));\n",
              "    --sklearn-color-icon: #878787;\n",
              "  }\n",
              "}\n",
              "\n",
              "#sk-container-id-1 {\n",
              "  color: var(--sklearn-color-text);\n",
              "}\n",
              "\n",
              "#sk-container-id-1 pre {\n",
              "  padding: 0;\n",
              "}\n",
              "\n",
              "#sk-container-id-1 input.sk-hidden--visually {\n",
              "  border: 0;\n",
              "  clip: rect(1px 1px 1px 1px);\n",
              "  clip: rect(1px, 1px, 1px, 1px);\n",
              "  height: 1px;\n",
              "  margin: -1px;\n",
              "  overflow: hidden;\n",
              "  padding: 0;\n",
              "  position: absolute;\n",
              "  width: 1px;\n",
              "}\n",
              "\n",
              "#sk-container-id-1 div.sk-dashed-wrapped {\n",
              "  border: 1px dashed var(--sklearn-color-line);\n",
              "  margin: 0 0.4em 0.5em 0.4em;\n",
              "  box-sizing: border-box;\n",
              "  padding-bottom: 0.4em;\n",
              "  background-color: var(--sklearn-color-background);\n",
              "}\n",
              "\n",
              "#sk-container-id-1 div.sk-container {\n",
              "  /* jupyter's `normalize.less` sets `[hidden] { display: none; }`\n",
              "     but bootstrap.min.css set `[hidden] { display: none !important; }`\n",
              "     so we also need the `!important` here to be able to override the\n",
              "     default hidden behavior on the sphinx rendered scikit-learn.org.\n",
              "     See: https://github.com/scikit-learn/scikit-learn/issues/21755 */\n",
              "  display: inline-block !important;\n",
              "  position: relative;\n",
              "}\n",
              "\n",
              "#sk-container-id-1 div.sk-text-repr-fallback {\n",
              "  display: none;\n",
              "}\n",
              "\n",
              "div.sk-parallel-item,\n",
              "div.sk-serial,\n",
              "div.sk-item {\n",
              "  /* draw centered vertical line to link estimators */\n",
              "  background-image: linear-gradient(var(--sklearn-color-text-on-default-background), var(--sklearn-color-text-on-default-background));\n",
              "  background-size: 2px 100%;\n",
              "  background-repeat: no-repeat;\n",
              "  background-position: center center;\n",
              "}\n",
              "\n",
              "/* Parallel-specific style estimator block */\n",
              "\n",
              "#sk-container-id-1 div.sk-parallel-item::after {\n",
              "  content: \"\";\n",
              "  width: 100%;\n",
              "  border-bottom: 2px solid var(--sklearn-color-text-on-default-background);\n",
              "  flex-grow: 1;\n",
              "}\n",
              "\n",
              "#sk-container-id-1 div.sk-parallel {\n",
              "  display: flex;\n",
              "  align-items: stretch;\n",
              "  justify-content: center;\n",
              "  background-color: var(--sklearn-color-background);\n",
              "  position: relative;\n",
              "}\n",
              "\n",
              "#sk-container-id-1 div.sk-parallel-item {\n",
              "  display: flex;\n",
              "  flex-direction: column;\n",
              "}\n",
              "\n",
              "#sk-container-id-1 div.sk-parallel-item:first-child::after {\n",
              "  align-self: flex-end;\n",
              "  width: 50%;\n",
              "}\n",
              "\n",
              "#sk-container-id-1 div.sk-parallel-item:last-child::after {\n",
              "  align-self: flex-start;\n",
              "  width: 50%;\n",
              "}\n",
              "\n",
              "#sk-container-id-1 div.sk-parallel-item:only-child::after {\n",
              "  width: 0;\n",
              "}\n",
              "\n",
              "/* Serial-specific style estimator block */\n",
              "\n",
              "#sk-container-id-1 div.sk-serial {\n",
              "  display: flex;\n",
              "  flex-direction: column;\n",
              "  align-items: center;\n",
              "  background-color: var(--sklearn-color-background);\n",
              "  padding-right: 1em;\n",
              "  padding-left: 1em;\n",
              "}\n",
              "\n",
              "\n",
              "/* Toggleable style: style used for estimator/Pipeline/ColumnTransformer box that is\n",
              "clickable and can be expanded/collapsed.\n",
              "- Pipeline and ColumnTransformer use this feature and define the default style\n",
              "- Estimators will overwrite some part of the style using the `sk-estimator` class\n",
              "*/\n",
              "\n",
              "/* Pipeline and ColumnTransformer style (default) */\n",
              "\n",
              "#sk-container-id-1 div.sk-toggleable {\n",
              "  /* Default theme specific background. It is overwritten whether we have a\n",
              "  specific estimator or a Pipeline/ColumnTransformer */\n",
              "  background-color: var(--sklearn-color-background);\n",
              "}\n",
              "\n",
              "/* Toggleable label */\n",
              "#sk-container-id-1 label.sk-toggleable__label {\n",
              "  cursor: pointer;\n",
              "  display: flex;\n",
              "  width: 100%;\n",
              "  margin-bottom: 0;\n",
              "  padding: 0.5em;\n",
              "  box-sizing: border-box;\n",
              "  text-align: center;\n",
              "  align-items: start;\n",
              "  justify-content: space-between;\n",
              "  gap: 0.5em;\n",
              "}\n",
              "\n",
              "#sk-container-id-1 label.sk-toggleable__label .caption {\n",
              "  font-size: 0.6rem;\n",
              "  font-weight: lighter;\n",
              "  color: var(--sklearn-color-text-muted);\n",
              "}\n",
              "\n",
              "#sk-container-id-1 label.sk-toggleable__label-arrow:before {\n",
              "  /* Arrow on the left of the label */\n",
              "  content: \"▸\";\n",
              "  float: left;\n",
              "  margin-right: 0.25em;\n",
              "  color: var(--sklearn-color-icon);\n",
              "}\n",
              "\n",
              "#sk-container-id-1 label.sk-toggleable__label-arrow:hover:before {\n",
              "  color: var(--sklearn-color-text);\n",
              "}\n",
              "\n",
              "/* Toggleable content - dropdown */\n",
              "\n",
              "#sk-container-id-1 div.sk-toggleable__content {\n",
              "  max-height: 0;\n",
              "  max-width: 0;\n",
              "  overflow: hidden;\n",
              "  text-align: left;\n",
              "  /* unfitted */\n",
              "  background-color: var(--sklearn-color-unfitted-level-0);\n",
              "}\n",
              "\n",
              "#sk-container-id-1 div.sk-toggleable__content.fitted {\n",
              "  /* fitted */\n",
              "  background-color: var(--sklearn-color-fitted-level-0);\n",
              "}\n",
              "\n",
              "#sk-container-id-1 div.sk-toggleable__content pre {\n",
              "  margin: 0.2em;\n",
              "  border-radius: 0.25em;\n",
              "  color: var(--sklearn-color-text);\n",
              "  /* unfitted */\n",
              "  background-color: var(--sklearn-color-unfitted-level-0);\n",
              "}\n",
              "\n",
              "#sk-container-id-1 div.sk-toggleable__content.fitted pre {\n",
              "  /* unfitted */\n",
              "  background-color: var(--sklearn-color-fitted-level-0);\n",
              "}\n",
              "\n",
              "#sk-container-id-1 input.sk-toggleable__control:checked~div.sk-toggleable__content {\n",
              "  /* Expand drop-down */\n",
              "  max-height: 200px;\n",
              "  max-width: 100%;\n",
              "  overflow: auto;\n",
              "}\n",
              "\n",
              "#sk-container-id-1 input.sk-toggleable__control:checked~label.sk-toggleable__label-arrow:before {\n",
              "  content: \"▾\";\n",
              "}\n",
              "\n",
              "/* Pipeline/ColumnTransformer-specific style */\n",
              "\n",
              "#sk-container-id-1 div.sk-label input.sk-toggleable__control:checked~label.sk-toggleable__label {\n",
              "  color: var(--sklearn-color-text);\n",
              "  background-color: var(--sklearn-color-unfitted-level-2);\n",
              "}\n",
              "\n",
              "#sk-container-id-1 div.sk-label.fitted input.sk-toggleable__control:checked~label.sk-toggleable__label {\n",
              "  background-color: var(--sklearn-color-fitted-level-2);\n",
              "}\n",
              "\n",
              "/* Estimator-specific style */\n",
              "\n",
              "/* Colorize estimator box */\n",
              "#sk-container-id-1 div.sk-estimator input.sk-toggleable__control:checked~label.sk-toggleable__label {\n",
              "  /* unfitted */\n",
              "  background-color: var(--sklearn-color-unfitted-level-2);\n",
              "}\n",
              "\n",
              "#sk-container-id-1 div.sk-estimator.fitted input.sk-toggleable__control:checked~label.sk-toggleable__label {\n",
              "  /* fitted */\n",
              "  background-color: var(--sklearn-color-fitted-level-2);\n",
              "}\n",
              "\n",
              "#sk-container-id-1 div.sk-label label.sk-toggleable__label,\n",
              "#sk-container-id-1 div.sk-label label {\n",
              "  /* The background is the default theme color */\n",
              "  color: var(--sklearn-color-text-on-default-background);\n",
              "}\n",
              "\n",
              "/* On hover, darken the color of the background */\n",
              "#sk-container-id-1 div.sk-label:hover label.sk-toggleable__label {\n",
              "  color: var(--sklearn-color-text);\n",
              "  background-color: var(--sklearn-color-unfitted-level-2);\n",
              "}\n",
              "\n",
              "/* Label box, darken color on hover, fitted */\n",
              "#sk-container-id-1 div.sk-label.fitted:hover label.sk-toggleable__label.fitted {\n",
              "  color: var(--sklearn-color-text);\n",
              "  background-color: var(--sklearn-color-fitted-level-2);\n",
              "}\n",
              "\n",
              "/* Estimator label */\n",
              "\n",
              "#sk-container-id-1 div.sk-label label {\n",
              "  font-family: monospace;\n",
              "  font-weight: bold;\n",
              "  display: inline-block;\n",
              "  line-height: 1.2em;\n",
              "}\n",
              "\n",
              "#sk-container-id-1 div.sk-label-container {\n",
              "  text-align: center;\n",
              "}\n",
              "\n",
              "/* Estimator-specific */\n",
              "#sk-container-id-1 div.sk-estimator {\n",
              "  font-family: monospace;\n",
              "  border: 1px dotted var(--sklearn-color-border-box);\n",
              "  border-radius: 0.25em;\n",
              "  box-sizing: border-box;\n",
              "  margin-bottom: 0.5em;\n",
              "  /* unfitted */\n",
              "  background-color: var(--sklearn-color-unfitted-level-0);\n",
              "}\n",
              "\n",
              "#sk-container-id-1 div.sk-estimator.fitted {\n",
              "  /* fitted */\n",
              "  background-color: var(--sklearn-color-fitted-level-0);\n",
              "}\n",
              "\n",
              "/* on hover */\n",
              "#sk-container-id-1 div.sk-estimator:hover {\n",
              "  /* unfitted */\n",
              "  background-color: var(--sklearn-color-unfitted-level-2);\n",
              "}\n",
              "\n",
              "#sk-container-id-1 div.sk-estimator.fitted:hover {\n",
              "  /* fitted */\n",
              "  background-color: var(--sklearn-color-fitted-level-2);\n",
              "}\n",
              "\n",
              "/* Specification for estimator info (e.g. \"i\" and \"?\") */\n",
              "\n",
              "/* Common style for \"i\" and \"?\" */\n",
              "\n",
              ".sk-estimator-doc-link,\n",
              "a:link.sk-estimator-doc-link,\n",
              "a:visited.sk-estimator-doc-link {\n",
              "  float: right;\n",
              "  font-size: smaller;\n",
              "  line-height: 1em;\n",
              "  font-family: monospace;\n",
              "  background-color: var(--sklearn-color-background);\n",
              "  border-radius: 1em;\n",
              "  height: 1em;\n",
              "  width: 1em;\n",
              "  text-decoration: none !important;\n",
              "  margin-left: 0.5em;\n",
              "  text-align: center;\n",
              "  /* unfitted */\n",
              "  border: var(--sklearn-color-unfitted-level-1) 1pt solid;\n",
              "  color: var(--sklearn-color-unfitted-level-1);\n",
              "}\n",
              "\n",
              ".sk-estimator-doc-link.fitted,\n",
              "a:link.sk-estimator-doc-link.fitted,\n",
              "a:visited.sk-estimator-doc-link.fitted {\n",
              "  /* fitted */\n",
              "  border: var(--sklearn-color-fitted-level-1) 1pt solid;\n",
              "  color: var(--sklearn-color-fitted-level-1);\n",
              "}\n",
              "\n",
              "/* On hover */\n",
              "div.sk-estimator:hover .sk-estimator-doc-link:hover,\n",
              ".sk-estimator-doc-link:hover,\n",
              "div.sk-label-container:hover .sk-estimator-doc-link:hover,\n",
              ".sk-estimator-doc-link:hover {\n",
              "  /* unfitted */\n",
              "  background-color: var(--sklearn-color-unfitted-level-3);\n",
              "  color: var(--sklearn-color-background);\n",
              "  text-decoration: none;\n",
              "}\n",
              "\n",
              "div.sk-estimator.fitted:hover .sk-estimator-doc-link.fitted:hover,\n",
              ".sk-estimator-doc-link.fitted:hover,\n",
              "div.sk-label-container:hover .sk-estimator-doc-link.fitted:hover,\n",
              ".sk-estimator-doc-link.fitted:hover {\n",
              "  /* fitted */\n",
              "  background-color: var(--sklearn-color-fitted-level-3);\n",
              "  color: var(--sklearn-color-background);\n",
              "  text-decoration: none;\n",
              "}\n",
              "\n",
              "/* Span, style for the box shown on hovering the info icon */\n",
              ".sk-estimator-doc-link span {\n",
              "  display: none;\n",
              "  z-index: 9999;\n",
              "  position: relative;\n",
              "  font-weight: normal;\n",
              "  right: .2ex;\n",
              "  padding: .5ex;\n",
              "  margin: .5ex;\n",
              "  width: min-content;\n",
              "  min-width: 20ex;\n",
              "  max-width: 50ex;\n",
              "  color: var(--sklearn-color-text);\n",
              "  box-shadow: 2pt 2pt 4pt #999;\n",
              "  /* unfitted */\n",
              "  background: var(--sklearn-color-unfitted-level-0);\n",
              "  border: .5pt solid var(--sklearn-color-unfitted-level-3);\n",
              "}\n",
              "\n",
              ".sk-estimator-doc-link.fitted span {\n",
              "  /* fitted */\n",
              "  background: var(--sklearn-color-fitted-level-0);\n",
              "  border: var(--sklearn-color-fitted-level-3);\n",
              "}\n",
              "\n",
              ".sk-estimator-doc-link:hover span {\n",
              "  display: block;\n",
              "}\n",
              "\n",
              "/* \"?\"-specific style due to the `<a>` HTML tag */\n",
              "\n",
              "#sk-container-id-1 a.estimator_doc_link {\n",
              "  float: right;\n",
              "  font-size: 1rem;\n",
              "  line-height: 1em;\n",
              "  font-family: monospace;\n",
              "  background-color: var(--sklearn-color-background);\n",
              "  border-radius: 1rem;\n",
              "  height: 1rem;\n",
              "  width: 1rem;\n",
              "  text-decoration: none;\n",
              "  /* unfitted */\n",
              "  color: var(--sklearn-color-unfitted-level-1);\n",
              "  border: var(--sklearn-color-unfitted-level-1) 1pt solid;\n",
              "}\n",
              "\n",
              "#sk-container-id-1 a.estimator_doc_link.fitted {\n",
              "  /* fitted */\n",
              "  border: var(--sklearn-color-fitted-level-1) 1pt solid;\n",
              "  color: var(--sklearn-color-fitted-level-1);\n",
              "}\n",
              "\n",
              "/* On hover */\n",
              "#sk-container-id-1 a.estimator_doc_link:hover {\n",
              "  /* unfitted */\n",
              "  background-color: var(--sklearn-color-unfitted-level-3);\n",
              "  color: var(--sklearn-color-background);\n",
              "  text-decoration: none;\n",
              "}\n",
              "\n",
              "#sk-container-id-1 a.estimator_doc_link.fitted:hover {\n",
              "  /* fitted */\n",
              "  background-color: var(--sklearn-color-fitted-level-3);\n",
              "}\n",
              "</style><div id=\"sk-container-id-1\" class=\"sk-top-container\"><div class=\"sk-text-repr-fallback\"><pre>RandomForestClassifier(random_state=42)</pre><b>In a Jupyter environment, please rerun this cell to show the HTML representation or trust the notebook. <br />On GitHub, the HTML representation is unable to render, please try loading this page with nbviewer.org.</b></div><div class=\"sk-container\" hidden><div class=\"sk-item\"><div class=\"sk-estimator fitted sk-toggleable\"><input class=\"sk-toggleable__control sk-hidden--visually\" id=\"sk-estimator-id-1\" type=\"checkbox\" checked><label for=\"sk-estimator-id-1\" class=\"sk-toggleable__label fitted sk-toggleable__label-arrow\"><div><div>RandomForestClassifier</div></div><div><a class=\"sk-estimator-doc-link fitted\" rel=\"noreferrer\" target=\"_blank\" href=\"https://scikit-learn.org/1.6/modules/generated/sklearn.ensemble.RandomForestClassifier.html\">?<span>Documentation for RandomForestClassifier</span></a><span class=\"sk-estimator-doc-link fitted\">i<span>Fitted</span></span></div></label><div class=\"sk-toggleable__content fitted\"><pre>RandomForestClassifier(random_state=42)</pre></div> </div></div></div></div>"
            ]
          },
          "metadata": {},
          "execution_count": 37
        }
      ]
    },
    {
      "cell_type": "code",
      "source": [
        "# Evaluate the models\n",
        "# Logistic Regression\n",
        "y_pred_lr = logistic_regression.predict(X_test)\n",
        "accuracy_lr = accuracy_score(y_test, y_pred_lr)\n",
        "report_lr = classification_report(y_test, y_pred_lr)\n",
        "\n",
        "# Random Forest\n",
        "y_pred_rf = random_forest.predict(X_test)\n",
        "accuracy_rf = accuracy_score(y_test, y_pred_rf)\n",
        "report_rf = classification_report(y_test, y_pred_rf)"
      ],
      "metadata": {
        "colab": {
          "base_uri": "https://localhost:8080/"
        },
        "id": "HVJeHNeWPUvG",
        "outputId": "6c1ae8d0-3f81-4ac4-925e-04b950638819"
      },
      "execution_count": 38,
      "outputs": [
        {
          "output_type": "stream",
          "name": "stderr",
          "text": [
            "/usr/local/lib/python3.11/dist-packages/sklearn/metrics/_classification.py:1565: UndefinedMetricWarning: Precision is ill-defined and being set to 0.0 in labels with no predicted samples. Use `zero_division` parameter to control this behavior.\n",
            "  _warn_prf(average, modifier, f\"{metric.capitalize()} is\", len(result))\n",
            "/usr/local/lib/python3.11/dist-packages/sklearn/metrics/_classification.py:1565: UndefinedMetricWarning: Precision is ill-defined and being set to 0.0 in labels with no predicted samples. Use `zero_division` parameter to control this behavior.\n",
            "  _warn_prf(average, modifier, f\"{metric.capitalize()} is\", len(result))\n",
            "/usr/local/lib/python3.11/dist-packages/sklearn/metrics/_classification.py:1565: UndefinedMetricWarning: Precision is ill-defined and being set to 0.0 in labels with no predicted samples. Use `zero_division` parameter to control this behavior.\n",
            "  _warn_prf(average, modifier, f\"{metric.capitalize()} is\", len(result))\n"
          ]
        }
      ]
    },
    {
      "cell_type": "code",
      "source": [
        "# Print results\n",
        "print(\"\\nLogistic Regression Model:\")\n",
        "print(f\"Accuracy: {accuracy_lr:.6f}\")\n",
        "print(f\"Classification Report:\\n{report_lr}\")"
      ],
      "metadata": {
        "colab": {
          "base_uri": "https://localhost:8080/"
        },
        "id": "2cZILyagPfPg",
        "outputId": "17cab671-5be5-409e-c8c8-d3486363a2a7"
      },
      "execution_count": 39,
      "outputs": [
        {
          "output_type": "stream",
          "name": "stdout",
          "text": [
            "\n",
            "Logistic Regression Model:\n",
            "Accuracy: 0.879699\n",
            "Classification Report:\n",
            "              precision    recall  f1-score   support\n",
            "\n",
            "        High       0.85      0.57      0.69        40\n",
            "     Highest       1.00      0.20      0.33         5\n",
            "         Low       0.91      0.80      0.85       159\n",
            "      Lowest       0.96      1.00      0.98       367\n",
            " Medium-High       0.79      0.71      0.75        98\n",
            "  Medium-Low       0.72      0.88      0.79       129\n",
            "\n",
            "    accuracy                           0.88       798\n",
            "   macro avg       0.87      0.70      0.73       798\n",
            "weighted avg       0.88      0.88      0.88       798\n",
            "\n"
          ]
        }
      ]
    },
    {
      "cell_type": "code",
      "source": [
        "print(\"\\nRandom Forest Model:\")\n",
        "print(f\"Accuracy: {accuracy_rf:.6f}\")\n",
        "print(f\"Classification Report:\\n{report_rf}\")"
      ],
      "metadata": {
        "colab": {
          "base_uri": "https://localhost:8080/"
        },
        "id": "Ev2TYne4PiCK",
        "outputId": "08d68300-32e0-4aec-a023-af48e61e74db"
      },
      "execution_count": 40,
      "outputs": [
        {
          "output_type": "stream",
          "name": "stdout",
          "text": [
            "\n",
            "Random Forest Model:\n",
            "Accuracy: 0.989975\n",
            "Classification Report:\n",
            "              precision    recall  f1-score   support\n",
            "\n",
            "        High       0.88      0.95      0.92        40\n",
            "     Highest       0.00      0.00      0.00         5\n",
            "         Low       1.00      0.99      1.00       159\n",
            "      Lowest       1.00      1.00      1.00       367\n",
            " Medium-High       0.98      1.00      0.99        98\n",
            "  Medium-Low       0.99      1.00      1.00       129\n",
            "\n",
            "    accuracy                           0.99       798\n",
            "   macro avg       0.81      0.82      0.82       798\n",
            "weighted avg       0.98      0.99      0.99       798\n",
            "\n"
          ]
        }
      ]
    },
    {
      "cell_type": "markdown",
      "source": [
        "In conclusion, the **Logistic Regression** model achieved an accuracy of 0.8797, demonstrating solid performance overall. However, it faced challenges with the \"Highest\" and \"High\" categories, as indicated by the lower recall and F1-scores for these classes. While it performed well for the \"Lowest\" and \"Low\" categories, the model struggled with minority classes, suggesting potential **underfitting** in these areas. Its macro average F1-score was 0.73, and the weighted average F1-score was 0.88, which shows that the model's performance was skewed towards the more frequent classes, making it less effective on underrepresented ones.\n",
        "\n",
        "The **Random Forest** model, on the other hand, exhibited a higher accuracy of 0.988722, indicating stronger performance overall. The model achieved high precision, recall, and F1-scores for the majority of categories, including \"Low,\" \"Lowest,\" \"Medium-High,\" and \"Medium-Low.\" However, the performance dropped for the \"High\" category, which had fewer samples, pointing to some degree of **overfitting** to the majority classes. Despite this, the Random Forest's weighted average F1-score of 0.99 and macro average F1-score of 0.81 suggest that the model has a strong tendency to favor frequent classes, while the minority class \"High\" was underrepresented.\n",
        "\n",
        "In conclusion, while the **Random Forest** model performed better overall in terms of accuracy and classification, it demonstrated signs of overfitting, particularly with imbalanced classes. The **Logistic Regression** model, although performing well for the majority of classes, struggled with the minority ones and showed lower effectiveness. Both models could benefit from additional steps such as hyperparameter tuning or balancing techniques to mitigate issues with overfitting or underfitting. Given the **Random Forest's** superior accuracy and classification performance, it is likely the better model overall, but reducing overfitting would be crucial for improving its generalization across all categories."
      ],
      "metadata": {
        "id": "6CU4qLkiQuUo"
      }
    },
    {
      "cell_type": "markdown",
      "source": [
        "**Confusion Matrices**"
      ],
      "metadata": {
        "id": "vnMRkaTfQv1f"
      }
    },
    {
      "cell_type": "code",
      "source": [
        "# Confusion Matrix for Logistic Regression\n",
        "# Create severity_mapping:\n",
        "severity_mapping = {label: i for i, label in enumerate(np.unique(y_test))}\n",
        "\n",
        "# use y_test directly in confusion_matrix\n",
        "cm_lr = confusion_matrix(y_test, y_pred_lr)\n",
        "\n",
        "plt.figure(figsize=(8, 6))\n",
        "sns.heatmap(cm_lr, annot=True, fmt='d', cmap='Blues',\n",
        "            xticklabels=list(severity_mapping.keys()), # convert keys to list\n",
        "            yticklabels=list(severity_mapping.keys())) # convert keys to list\n",
        "plt.title('Confusion Matrix - Logistic Regression')\n",
        "plt.xlabel('Predicted')\n",
        "plt.ylabel('Actual')\n",
        "plt.show()"
      ],
      "metadata": {
        "colab": {
          "base_uri": "https://localhost:8080/",
          "height": 558
        },
        "id": "4kRde_0hRNF6",
        "outputId": "46e1d1b4-f958-4e4f-afbd-a3fef6288a0a"
      },
      "execution_count": 41,
      "outputs": [
        {
          "output_type": "display_data",
          "data": {
            "text/plain": [
              "<Figure size 800x600 with 2 Axes>"
            ],
            "image/png": "[encoded data removed]"
          },
          "metadata": {}
        }
      ]
    },
    {
      "cell_type": "code",
      "source": [
        "# Confusion Matrix for Random Forest\n",
        "cm_rf = confusion_matrix(y_test, y_pred_rf)\n",
        "plt.figure(figsize=(8, 6))\n",
        "sns.heatmap(cm_rf, annot=True, fmt='d', cmap='Greens', xticklabels=severity_mapping.keys(), yticklabels=severity_mapping.keys())\n",
        "plt.title('Confusion Matrix - Random Forest')\n",
        "plt.xlabel('Predicted')\n",
        "plt.ylabel('Actual')\n",
        "plt.show()\n"
      ],
      "metadata": {
        "colab": {
          "base_uri": "https://localhost:8080/",
          "height": 558
        },
        "id": "N9BE3sFlRovL",
        "outputId": "d949144a-4dfb-4253-ea4e-5b238c69450d"
      },
      "execution_count": 42,
      "outputs": [
        {
          "output_type": "display_data",
          "data": {
            "text/plain": [
              "<Figure size 800x600 with 2 Axes>"
            ],
            "image/png": "[encoded data removed]"
          },
          "metadata": {}
        }
      ]
    },
    {
      "cell_type": "markdown",
      "source": [
        "The heatmaps for the **Logistic Regression** and **Random Forest** models provide a clear visualization of their respective confusion matrices, helping to assess their classification performance.  \n",
        "\n",
        "For **Logistic Regression**, the heatmap reveals strong classification performance for certain categories, such as the \"Lowest\" category (367 true positives), demonstrating a high true positive rate. However, the model struggles with minority classes, particularly \"High\" and \"Highest,\" where misclassifications are more frequent. False positives and false negatives in categories like \"Low\" and \"Medium-High\" highlight areas where the model requires improvement. The misclassification of underrepresented classes suggests potential underfitting.  \n",
        "\n",
        "On the other hand, the **Random Forest** model achieves significantly higher accuracy, with consistently strong classification across most categories. High counts in the \"Lowest\" (367) and \"Medium-Low\" (159) categories indicate excellent true positive rates. However, similar to Logistic Regression, the model struggles with the \"Highest\" category, showing misclassifications and potential overfitting to majority classes. The presence of near-perfect precision and recall for most categories suggests that the model is highly effective but might require adjustments to generalize better for minority classes.  \n",
        "\n",
        "Overall, while **Logistic Regression** exhibits reasonable performance, it struggles with class imbalance, whereas **Random Forest** provides superior classification accuracy but shows signs of overfitting. These insights from the confusion matrices highlight the need for potential refinements, such as class rebalancing or hyperparameter tuning, to enhance overall model performance."
      ],
      "metadata": {
        "id": "cfp6VF0MSQFV"
      }
    },
    {
      "cell_type": "markdown",
      "source": [
        "# **Overfitting Detection**"
      ],
      "metadata": {
        "id": "ks8YvgKDa-yt"
      }
    },
    {
      "cell_type": "markdown",
      "source": [
        "As both our primary models and their confusion heatmap showed cases of overfitting we are going to find the causes of overfitting.\n"
      ],
      "metadata": {
        "id": "sJt5ySguSQ71"
      }
    },
    {
      "cell_type": "markdown",
      "source": [
        "**Check Performance on Training vs. Test Data**"
      ],
      "metadata": {
        "id": "qXhVNinKVHA_"
      }
    },
    {
      "cell_type": "code",
      "source": [
        "from sklearn.metrics import accuracy_score\n",
        "# Logistic Regression model:\n",
        "model = logistic_regression\n",
        "\n",
        "# Use the selected features for training and testing predictions\n",
        "train_preds = model.predict(X_train) # Using X_train directly\n",
        "test_preds = model.predict(X_test)  # Using X_test directly\n",
        "\n",
        "\n",
        "train_acc = accuracy_score(y_train, train_preds)\n",
        "test_acc = accuracy_score(y_test, test_preds)\n",
        "\n",
        "print(f\"Training Accuracy: {train_acc:.4f}\")\n",
        "print(f\"Test Accuracy: {test_acc:.4f}\")"
      ],
      "metadata": {
        "colab": {
          "base_uri": "https://localhost:8080/"
        },
        "id": "AxLYr5IEVGVx",
        "outputId": "8671e4dd-aaf3-46ff-93e3-7b5914edb429"
      },
      "execution_count": 43,
      "outputs": [
        {
          "output_type": "stream",
          "name": "stdout",
          "text": [
            "Training Accuracy: 0.8563\n",
            "Test Accuracy: 0.8797\n"
          ]
        }
      ]
    },
    {
      "cell_type": "code",
      "source": [
        "from sklearn.metrics import accuracy_score\n",
        "\n",
        "#Random Forest model:\n",
        "final_model_rf = random_forest\n",
        "\n",
        "# Use the selected features for training and testing predictions\n",
        "#Instead of using the transformed X_train and X_test with 4 features, use the original X_train and X_test which have 6 features.\n",
        "train_preds = final_model_rf.predict(X_train)\n",
        "test_preds = final_model_rf.predict(X_test)\n",
        "\n",
        "\n",
        "train_acc = accuracy_score(y_train, train_preds)\n",
        "test_acc = accuracy_score(y_test, test_preds)\n",
        "\n",
        "print(f\"Training Accuracy: {train_acc:.4f}\")\n",
        "print(f\"Test Accuracy: {test_acc:.4f}\")"
      ],
      "metadata": {
        "colab": {
          "base_uri": "https://localhost:8080/"
        },
        "id": "alYSyNMOV6y9",
        "outputId": "394c98d6-76b4-44ad-91d7-830da6a9233d"
      },
      "execution_count": 44,
      "outputs": [
        {
          "output_type": "stream",
          "name": "stdout",
          "text": [
            "Training Accuracy: 1.0000\n",
            "Test Accuracy: 0.9900\n"
          ]
        }
      ]
    },
    {
      "cell_type": "markdown",
      "source": [
        "The logistic regression model demonstrates a good balance between bias and variance, as its training and test accuracy are nearly identical (0.8742 and 0.8747, respectively). This indicates that the model generalizes well to unseen data and is not overfitting. In contrast, the random forest model achieves perfect accuracy on the training data (1.0000) and an extremely high test accuracy (0.9987). While the minimal drop in performance suggests strong generalization, the perfect training accuracy indicates that the model has likely memorized the training data, which is a common sign of overfitting. To mitigate this, techniques such as limiting tree depth, increasing the minimum samples required for a split, reducing the number of trees, or performing feature selection can help improve generalization while maintaining high predictive performance."
      ],
      "metadata": {
        "id": "j5JIieh7cde0"
      }
    },
    {
      "cell_type": "markdown",
      "source": [
        "**Check Correlation Between Features:**"
      ],
      "metadata": {
        "id": "WTYpZ0EUbjIG"
      }
    },
    {
      "cell_type": "code",
      "source": [
        "import seaborn as sns\n",
        "import pandas as pd\n",
        "\n",
        "# Convert X_train to a pandas DataFrame\n",
        "X_train_df = pd.DataFrame(X_train)\n",
        "\n",
        "# calculate the correlation matrix\n",
        "corr = X_train_df.corr()\n",
        "sns.heatmap(corr, annot=True, cmap='coolwarm')"
      ],
      "metadata": {
        "colab": {
          "base_uri": "https://localhost:8080/",
          "height": 452
        },
        "id": "GATmetd-bnEZ",
        "outputId": "cb40005b-3de4-4015-9611-6a54486d8451"
      },
      "execution_count": 45,
      "outputs": [
        {
          "output_type": "execute_result",
          "data": {
            "text/plain": [
              "<Axes: >"
            ]
          },
          "metadata": {},
          "execution_count": 45
        },
        {
          "output_type": "display_data",
          "data": {
            "text/plain": [
              "<Figure size 640x480 with 2 Axes>"
            ],
            "image/png": "[encoded data removed]"
          },
          "metadata": {}
        }
      ]
    },
    {
      "cell_type": "markdown",
      "source": [
        "The heatmap highlights potential multicollinearity in the data. Multicollinearity doesn't directly cause overfitting, but it can make models more prone to it by making them overly sensitive to the training data. It can also make the model more complex than necessary, which can also increase the risk of overfitting. Addressing multicollinearity through feature selection or dimensionality reduction techniques can help to build more robust and generalizable models."
      ],
      "metadata": {
        "id": "kDbwNmJGhTJi"
      }
    },
    {
      "cell_type": "markdown",
      "source": [
        "**Check for Overly Complex Model Parameters**"
      ],
      "metadata": {
        "id": "sG1fiFNObscy"
      }
    },
    {
      "cell_type": "code",
      "source": [
        "print(model.get_params())\n"
      ],
      "metadata": {
        "colab": {
          "base_uri": "https://localhost:8080/"
        },
        "id": "gIGrqnGVXkQj",
        "outputId": "df4f9192-82be-4276-d2fb-ad0ffed597ed"
      },
      "execution_count": 46,
      "outputs": [
        {
          "output_type": "stream",
          "name": "stdout",
          "text": [
            "{'C': 1.0, 'class_weight': None, 'dual': False, 'fit_intercept': True, 'intercept_scaling': 1, 'l1_ratio': None, 'max_iter': 100, 'multi_class': 'ovr', 'n_jobs': None, 'penalty': 'l2', 'random_state': 42, 'solver': 'liblinear', 'tol': 0.0001, 'verbose': 0, 'warm_start': False}\n"
          ]
        }
      ]
    },
    {
      "cell_type": "markdown",
      "source": [
        "The given **Random Forest** parameters allow trees to grow deeply (`max_depth=None`) with minimal constraints (`min_samples_split=2`, `min_samples_leaf=1`), increasing the risk of overfitting by capturing noise. The lack of regularization (`ccp_alpha=0.0`, `min_impurity_decrease=0.0`) and disabled **out-of-bag evaluation (`oob_score=False`)** further limit generalization assessment. While `max_features='sqrt'` helps reduce overfitting, tuning it further may be beneficial. To improve generalization, consider limiting tree depth, increasing minimum split and leaf sizes, enabling pruning, and using `oob_score=True` for better model evaluation."
      ],
      "metadata": {
        "id": "koxdrn5rhV4J"
      }
    },
    {
      "cell_type": "markdown",
      "source": [
        "**Use Cross-Validation Scores**\n"
      ],
      "metadata": {
        "id": "s7U2kaMYb05C"
      }
    },
    {
      "cell_type": "code",
      "source": [
        "from sklearn.model_selection import cross_val_score\n",
        "\n",
        "cv_scores = cross_val_score(model, X_train, y_train, cv=5)\n",
        "print(f\"Mean CV Score: {cv_scores.mean():.4f}\")"
      ],
      "metadata": {
        "colab": {
          "base_uri": "https://localhost:8080/"
        },
        "id": "z7PVt7erXmOX",
        "outputId": "6dc48c7d-a270-4abd-ad2d-c661df682aee"
      },
      "execution_count": 47,
      "outputs": [
        {
          "output_type": "stream",
          "name": "stdout",
          "text": [
            "Mean CV Score: 0.8488\n"
          ]
        },
        {
          "output_type": "stream",
          "name": "stderr",
          "text": [
            "/usr/local/lib/python3.11/dist-packages/sklearn/linear_model/_logistic.py:1256: FutureWarning: 'multi_class' was deprecated in version 1.5 and will be removed in 1.7. Use OneVsRestClassifier(LogisticRegression(..)) instead. Leave it to its default value to avoid this warning.\n",
            "  warnings.warn(\n",
            "/usr/local/lib/python3.11/dist-packages/sklearn/linear_model/_logistic.py:1256: FutureWarning: 'multi_class' was deprecated in version 1.5 and will be removed in 1.7. Use OneVsRestClassifier(LogisticRegression(..)) instead. Leave it to its default value to avoid this warning.\n",
            "  warnings.warn(\n",
            "/usr/local/lib/python3.11/dist-packages/sklearn/linear_model/_logistic.py:1256: FutureWarning: 'multi_class' was deprecated in version 1.5 and will be removed in 1.7. Use OneVsRestClassifier(LogisticRegression(..)) instead. Leave it to its default value to avoid this warning.\n",
            "  warnings.warn(\n",
            "/usr/local/lib/python3.11/dist-packages/sklearn/linear_model/_logistic.py:1256: FutureWarning: 'multi_class' was deprecated in version 1.5 and will be removed in 1.7. Use OneVsRestClassifier(LogisticRegression(..)) instead. Leave it to its default value to avoid this warning.\n",
            "  warnings.warn(\n",
            "/usr/local/lib/python3.11/dist-packages/sklearn/linear_model/_logistic.py:1256: FutureWarning: 'multi_class' was deprecated in version 1.5 and will be removed in 1.7. Use OneVsRestClassifier(LogisticRegression(..)) instead. Leave it to its default value to avoid this warning.\n",
            "  warnings.warn(\n"
          ]
        }
      ]
    },
    {
      "cell_type": "markdown",
      "source": [
        "A **Mean CV Score of 0.9966** indicates exceptionally high performance during cross-validation, which may suggest overfitting. If the model is too complex, as seen with **unrestricted tree depth (`max_depth=None`) and minimal constraints (`min_samples_leaf=1`)**, it may be memorizing training data rather than learning generalizable patterns. This can lead to a **significant drop in performance on unseen test data**, confirming overfitting. To address this, consider **increasing regularization** (e.g., limiting depth, pruning with `ccp_alpha`), **ensuring proper cross-validation** (e.g., stratified k-fold to prevent data leakage), and **evaluating test performance** to check for discrepancies. Additionally, collecting more data or simplifying the model can help improve generalization."
      ],
      "metadata": {
        "id": "Y-f5zbSXhYwe"
      }
    },
    {
      "cell_type": "markdown",
      "source": [
        "# **Handling Overfitting**"
      ],
      "metadata": {
        "id": "b6u7iPDmhZ9Y"
      }
    },
    {
      "cell_type": "code",
      "source": [
        "import pandas as pd\n",
        "import numpy as np\n",
        "from statsmodels.stats.outliers_influence import variance_inflation_factor\n",
        "from sklearn.preprocessing import StandardScaler"
      ],
      "metadata": {
        "id": "JPRpeMbfhsGU"
      },
      "execution_count": 48,
      "outputs": []
    },
    {
      "cell_type": "code",
      "source": [
        "# Drop target variable and non-numerical columns for correlation analysis\n",
        "X = df.drop(columns=['Severity category', 'P_CODE', 'VDC_NAME', 'DISTRICT', 'REGION'])\n",
        "y = df['Severity category']\n",
        "\n",
        "# Compute correlation matrix\n",
        "corr_matrix = X.corr().abs()"
      ],
      "metadata": {
        "id": "NjwNhoEMm-aw"
      },
      "execution_count": 49,
      "outputs": []
    },
    {
      "cell_type": "code",
      "source": [
        "# Identify highly correlated features (threshold > 0.8)\n",
        "high_corr_features = set()\n",
        "for i in range(len(corr_matrix.columns)):\n",
        "    for j in range(i):\n",
        "        if corr_matrix.iloc[i, j] > 0.8:\n",
        "            high_corr_features.add(corr_matrix.columns[i])"
      ],
      "metadata": {
        "id": "KUxC2xqPnCN-"
      },
      "execution_count": 50,
      "outputs": []
    },
    {
      "cell_type": "code",
      "source": [
        "print(\"Highly Correlated Features to Remove:\", high_corr_features)\n",
        "X = X.drop(columns=high_corr_features)  # Drop correlated features"
      ],
      "metadata": {
        "colab": {
          "base_uri": "https://localhost:8080/"
        },
        "id": "Jh7lk3lJnEQu",
        "outputId": "8a3a7560-e7cf-42c4-ed13-02e522ed6875"
      },
      "execution_count": 51,
      "outputs": [
        {
          "output_type": "stream",
          "name": "stdout",
          "text": [
            "Highly Correlated Features to Remove: {'Severity Normalized'}\n"
          ]
        }
      ]
    },
    {
      "cell_type": "code",
      "source": [
        "# Variance Inflation Factor (VIF) to detect multicollinearity\n",
        "vif_data = pd.DataFrame()\n",
        "vif_data[\"Feature\"] = X.columns\n",
        "vif_data[\"VIF\"] = [variance_inflation_factor(X.values, i) for i in range(X.shape[1])]\n"
      ],
      "metadata": {
        "id": "b9o-Ndd1nGPA"
      },
      "execution_count": 52,
      "outputs": []
    },
    {
      "cell_type": "code",
      "source": [
        "# Drop features with VIF > 5 (sign of multicollinearity)\n",
        "X = X.drop(columns=vif_data[vif_data[\"VIF\"] > 5][\"Feature\"].tolist())\n",
        "\n",
        "# Standardize numerical features for better regularization\n",
        "scaler = StandardScaler()\n",
        "X_scaled = scaler.fit_transform(X)"
      ],
      "metadata": {
        "id": "mc_AzkJmnHKS"
      },
      "execution_count": 53,
      "outputs": []
    },
    {
      "cell_type": "markdown",
      "source": [
        "# **Hyperparameter Tuning and Cross Validation**"
      ],
      "metadata": {
        "id": "a54s6ibuiE5N"
      }
    },
    {
      "cell_type": "markdown",
      "source": [
        "Logistic Regression"
      ],
      "metadata": {
        "id": "5kYDyFWpKkoQ"
      }
    },
    {
      "cell_type": "code",
      "source": [
        "from sklearn.linear_model import LogisticRegression\n",
        "from sklearn.model_selection import GridSearchCV, StratifiedKFold\n",
        "from sklearn.metrics import accuracy_score, precision_score, recall_score, f1_score\n",
        "\n",
        "# Define hyperparameter grid for Logistic Regression\n",
        "param_grid_lr = {\n",
        "    'C': [0.001, 0.01, 0.1, 1, 10],  # Regularization strength\n",
        "    'solver': ['liblinear', 'saga'],  # Solver algorithms\n",
        "    'penalty': ['l1', 'l2']  # Regularization penalty\n",
        "}\n",
        "\n",
        "# Initialize Stratified K-Fold Cross-Validation to handle class imbalance\n",
        "cv = StratifiedKFold(n_splits=5, shuffle=True, random_state=42)\n",
        "\n",
        "# Initialize GridSearchCV for Logistic Regression\n",
        "grid_search_lr = GridSearchCV(\n",
        "    LogisticRegression(random_state=42, multi_class='ovr', max_iter=500),  # Ensure multi-class support\n",
        "    param_grid_lr,\n",
        "    cv=cv,\n",
        "    scoring='accuracy',\n",
        "    n_jobs=-1\n",
        ")\n",
        "\n",
        "# Perform Grid Search for Logistic Regression\n",
        "grid_search_lr.fit(X_train, y_train)\n",
        "\n",
        "# Print the best hyperparameters for Logistic Regression\n",
        "print(\"\\nBest Hyperparameters for Logistic Regression:\")\n",
        "print(grid_search_lr.best_params_)\n",
        "\n",
        "# Get the best model for Logistic Regression\n",
        "best_model_lr = grid_search_lr.best_estimator_\n",
        "\n",
        "# Evaluate the best Logistic Regression model on the test set\n",
        "y_pred_lr_opt = best_model_lr.predict(X_test)\n",
        "\n",
        "# Compute evaluation metrics\n",
        "accuracy_lr_opt = accuracy_score(y_test, y_pred_lr_opt)\n",
        "precision_lr_opt = precision_score(y_test, y_pred_lr_opt, average='weighted')\n",
        "recall_lr_opt = recall_score(y_test, y_pred_lr_opt, average='weighted')\n",
        "f1_lr_opt = f1_score(y_test, y_pred_lr_opt, average='weighted')\n",
        "\n",
        "# Print the evaluation metrics for Logistic Regression\n",
        "print(\"\\nOptimized Logistic Regression Model Performance:\")\n",
        "print(f\"Accuracy: {accuracy_lr_opt:.4f}\")\n",
        "print(f\"Precision: {precision_lr_opt:.4f}\")\n",
        "print(f\"Recall: {recall_lr_opt:.4f}\")\n",
        "print(f\"F1 Score: {f1_lr_opt:.4f}\")\n"
      ],
      "metadata": {
        "colab": {
          "base_uri": "https://localhost:8080/"
        },
        "id": "BBkhjRCK0sHa",
        "outputId": "253f05c8-5505-45ed-b6f3-1bb44e602b86"
      },
      "execution_count": 54,
      "outputs": [
        {
          "output_type": "stream",
          "name": "stderr",
          "text": [
            "/usr/local/lib/python3.11/dist-packages/sklearn/linear_model/_logistic.py:1256: FutureWarning: 'multi_class' was deprecated in version 1.5 and will be removed in 1.7. Use OneVsRestClassifier(LogisticRegression(..)) instead. Leave it to its default value to avoid this warning.\n",
            "  warnings.warn(\n"
          ]
        },
        {
          "output_type": "stream",
          "name": "stdout",
          "text": [
            "\n",
            "Best Hyperparameters for Logistic Regression:\n",
            "{'C': 10, 'penalty': 'l1', 'solver': 'liblinear'}\n",
            "\n",
            "Optimized Logistic Regression Model Performance:\n",
            "Accuracy: 0.8997\n",
            "Precision: 0.9041\n",
            "Recall: 0.8997\n",
            "F1 Score: 0.8994\n"
          ]
        }
      ]
    },
    {
      "cell_type": "markdown",
      "source": [
        "Random Forest Model"
      ],
      "metadata": {
        "id": "ua2KdaFSoAkD"
      }
    },
    {
      "cell_type": "code",
      "source": [
        "from sklearn.ensemble import RandomForestClassifier\n",
        "from sklearn.model_selection import GridSearchCV, RandomizedSearchCV, StratifiedKFold\n",
        "from sklearn.metrics import accuracy_score, precision_score, recall_score, f1_score\n",
        "\n",
        "# Define the hyperparameter grid for Randomized Search\n",
        "param_dist_rf = {\n",
        "    'n_estimators': [50, 80, 100, 150],  # More options for better optimization\n",
        "    'max_depth': [10, 20, 30, None],  # 'None' allows unrestricted depth\n",
        "    'min_samples_split': [2, 5, 10],\n",
        "    'min_samples_leaf': [1, 2, 5],\n",
        "    'max_features': ['sqrt', 'log2', None]  # None means all features\n",
        "}\n",
        "\n",
        "# Initialize Stratified K-Fold Cross-Validation\n",
        "cv = StratifiedKFold(n_splits=5, shuffle=True, random_state=42)\n",
        "\n",
        "# First Step: Use Randomized Search for quick tuning\n",
        "random_search_rf = RandomizedSearchCV(\n",
        "    RandomForestClassifier(random_state=42),\n",
        "    param_distributions=param_dist_rf,\n",
        "    n_iter=10,  # Number of random combinations tested\n",
        "    cv=cv,\n",
        "    scoring='accuracy',\n",
        "    n_jobs=-1,\n",
        "    random_state=42\n",
        ")\n",
        "\n",
        "# Fit RandomizedSearchCV\n",
        "random_search_rf.fit(X_train, y_train)\n",
        "\n",
        "# Print the best parameters from Randomized Search\n",
        "print(\"\\nBest Parameters from Randomized Search:\")\n",
        "print(random_search_rf.best_params_)\n",
        "\n",
        "# Use the best parameters from Randomized Search to refine Grid Search\n",
        "param_grid_rf = {\n",
        "    'n_estimators': [random_search_rf.best_params_['n_estimators'] - 20, random_search_rf.best_params_['n_estimators'], random_search_rf.best_params_['n_estimators'] + 20],\n",
        "    'max_depth': [random_search_rf.best_params_['max_depth']],\n",
        "    'min_samples_split': [random_search_rf.best_params_['min_samples_split']],\n",
        "    'min_samples_leaf': [random_search_rf.best_params_['min_samples_leaf']],\n",
        "    'max_features': [random_search_rf.best_params_['max_features']]\n",
        "}\n",
        "\n",
        "# Second Step: GridSearchCV for fine-tuning\n",
        "grid_search_rf = GridSearchCV(\n",
        "    RandomForestClassifier(random_state=42),\n",
        "    param_grid_rf,\n",
        "    cv=cv,\n",
        "    scoring='accuracy',\n",
        "    n_jobs=-1\n",
        ")\n",
        "\n",
        "# Fit GridSearchCV\n",
        "grid_search_rf.fit(X_train, y_train)\n",
        "\n",
        "# Print the best hyperparameters for Random Forest\n",
        "print(\"\\nFinal Best Hyperparameters for Random Forest:\")\n",
        "print(grid_search_rf.best_params_)\n",
        "\n",
        "# Get the best model from Grid Search\n",
        "best_model_rf = grid_search_rf.best_estimator_\n",
        "\n",
        "# Evaluate the best Random Forest model on the test set\n",
        "y_pred_rf_opt = best_model_rf.predict(X_test)\n",
        "\n",
        "# Compute evaluation metrics\n",
        "accuracy_rf_opt = accuracy_score(y_test, y_pred_rf_opt)\n",
        "precision_rf_opt = precision_score(y_test, y_pred_rf_opt, average='weighted')\n",
        "recall_rf_opt = recall_score(y_test, y_pred_rf_opt, average='weighted')\n",
        "f1_rf_opt = f1_score(y_test, y_pred_rf_opt, average='weighted')\n",
        "\n",
        "# Print the evaluation metrics for Random Forest\n",
        "print(\"\\nOptimized Random Forest Model Performance:\")\n",
        "print(f\"Accuracy: {accuracy_rf_opt:.4f}\")\n",
        "print(f\"Precision: {precision_rf_opt:.4f}\")\n",
        "print(f\"Recall: {recall_rf_opt:.4f}\")\n",
        "print(f\"F1 Score: {f1_rf_opt:.4f}\")\n"
      ],
      "metadata": {
        "colab": {
          "base_uri": "https://localhost:8080/"
        },
        "id": "0co_lYhT1u28",
        "outputId": "25e25cb0-a021-42bc-f032-521a0b7f08cb"
      },
      "execution_count": 55,
      "outputs": [
        {
          "output_type": "stream",
          "name": "stdout",
          "text": [
            "\n",
            "Best Parameters from Randomized Search:\n",
            "{'n_estimators': 50, 'min_samples_split': 5, 'min_samples_leaf': 5, 'max_features': None, 'max_depth': None}\n",
            "\n",
            "Final Best Hyperparameters for Random Forest:\n",
            "{'max_depth': None, 'max_features': None, 'min_samples_leaf': 5, 'min_samples_split': 5, 'n_estimators': 30}\n",
            "\n",
            "Optimized Random Forest Model Performance:\n",
            "Accuracy: 0.9925\n",
            "Precision: 0.9880\n",
            "Recall: 0.9925\n",
            "F1 Score: 0.9902\n"
          ]
        }
      ]
    },
    {
      "cell_type": "markdown",
      "source": [
        "Several strategies were employed to mitigate overfitting in both the Logistic Regression and Random Forest models. Cross-validation with Stratified K-Fold was used to ensure that the models were trained and validated on different data subsets, preserving class distribution and preventing overfitting. Hyperparameter optimization through Grid Search for Logistic Regression and Randomized Search followed by Grid Search for Random Forest helped identify the best model configurations, reducing the risk of overfitting by selecting optimal hyperparameters like regularization strength (`C`), tree depth (`max_depth`), and the number of estimators (`n_estimators`). Regularization in Logistic Regression was controlled by varying the `C` parameter to prevent the model from becoming too complex. For Random Forest, parameters such as `min_samples_split`, `min_samples_leaf`, and `max_features` were fine-tuned to avoid overly specific splits or leaves, which could lead to overfitting. The models were then evaluated on a separate test set to ensure they generalized well to unseen data, further protecting against overfitting."
      ],
      "metadata": {
        "id": "s9O9iHZrBsw3"
      }
    },
    {
      "cell_type": "markdown",
      "source": [
        "# **Feature Selection**"
      ],
      "metadata": {
        "id": "czUNrFRjofSO"
      }
    },
    {
      "cell_type": "code",
      "source": [
        "# Feature selection\n",
        "# Feature Selection using SelectKBest\n",
        "selector = SelectKBest(score_func=f_classif, k=4)  # Select top 4 features\n",
        "X_train_selected = selector.fit_transform(X_train, y_train)\n",
        "X_test_selected = selector.transform(X_test)"
      ],
      "metadata": {
        "id": "yviTv6kYoOZT"
      },
      "execution_count": 59,
      "outputs": []
    },
    {
      "cell_type": "code",
      "source": [
        "# Get the indices of the selected features\n",
        "selected_feature_indices = selector.get_support(indices=True)"
      ],
      "metadata": {
        "id": "gzdZMqVJp4FU"
      },
      "execution_count": 57,
      "outputs": []
    },
    {
      "cell_type": "code",
      "source": [
        "# Get the names of the selected features\n",
        "a = [df[['Hazard (Intensity)', 'Exposure', 'Housing', 'Poverty', 'Vulnerability', 'Severity Normalized']].columns[i] for i in selected_feature_indices]\n",
        "print(\"Selected features:\")\n",
        "print(a) # Print 'a' instead of 'selected_features'"
      ],
      "metadata": {
        "colab": {
          "base_uri": "https://localhost:8080/"
        },
        "id": "bfuZotEop55F",
        "outputId": "37384979-e59c-4d96-9418-3c9e9f915597"
      },
      "execution_count": 58,
      "outputs": [
        {
          "output_type": "stream",
          "name": "stdout",
          "text": [
            "Selected features:\n",
            "['Hazard (Intensity)', 'Exposure', 'Poverty', 'Severity Normalized']\n"
          ]
        }
      ]
    },
    {
      "cell_type": "markdown",
      "source": [
        "# **Final Model**"
      ],
      "metadata": {
        "id": "es8eTikWp86V"
      }
    },
    {
      "cell_type": "code",
      "source": [
        "from sklearn.linear_model import LogisticRegression\n",
        "from sklearn.ensemble import RandomForestClassifier\n",
        "from sklearn.metrics import accuracy_score, precision_score, recall_score, f1_score, confusion_matrix\n",
        "import numpy as np\n",
        "\n",
        "# Get the selected features from the original data\n",
        "X_train_selected = X_train[:, selected_feature_indices]  # Remove +1\n",
        "X_test_selected = X_test[:, selected_feature_indices]   # Remove +1\n",
        "\n",
        "# Logistic Regression with selected features\n",
        "log_reg_selected = LogisticRegression(random_state=42)\n",
        "log_reg_selected.fit(X_train_selected, y_train)\n",
        "y_pred_lr_selected = log_reg_selected.predict(X_test_selected)\n",
        "\n",
        "# Calculate evaluation metrics for Logistic Regression\n",
        "accuracy_lr_selected = accuracy_score(y_test, y_pred_lr_selected)\n",
        "precision_lr_selected = precision_score(y_test, y_pred_lr_selected, average='weighted') # Add average='weighted'\n",
        "recall_lr_selected = recall_score(y_test, y_pred_lr_selected, average='weighted') # Add average='weighted'\n",
        "f1_lr_selected = f1_score(y_test, y_pred_lr_selected, average='weighted') # Add average='weighted'\n",
        "\n",
        "# Print performance metrics for Logistic Regression\n",
        "print(\"\\nLogistic Regression Model with Selected Features:\")\n",
        "print(f\"Accuracy: {accuracy_lr_selected:.4f}\")\n",
        "print(f\"Precision: {precision_lr_selected:.4f}\")\n",
        "print(f\"Recall: {recall_lr_selected:.4f}\")\n",
        "print(f\"F1 Score: {f1_lr_selected:.4f}\")\n",
        "\n",
        "# Random Forest with selected features and tuned hyperparameters\n",
        "# Assuming 'grid_search_rf' holds the results from tuning the Random Forest\n",
        "random_forest_selected = RandomForestClassifier(**grid_search_rf.best_params_, random_state=42)\n",
        "random_forest_selected.fit(X_train_selected, y_train)\n",
        "y_pred_rf_selected = random_forest_selected.predict(X_test_selected)\n",
        "\n",
        "# Calculate evaluation metrics for Random Forest\n",
        "accuracy_rf_selected = accuracy_score(y_test, y_pred_rf_selected)\n",
        "precision_rf_selected = precision_score(y_test, y_pred_rf_selected, average='weighted') # Add average='weighted'\n",
        "recall_rf_selected = recall_score(y_test, y_pred_rf_selected, average='weighted') # Add average='weighted'\n",
        "f1_rf_selected = f1_score(y_test, y_pred_rf_selected, average='weighted') # Add average='weighted'\n",
        "\n",
        "# Print performance metrics for Random Forest\n",
        "print(\"\\nTuned Random Forest Classifier Model with Selected Features:\")\n",
        "print(f\"Accuracy: {accuracy_rf_selected:.4f}\")\n",
        "print(f\"Precision: {precision_rf_selected:.4f}\")\n",
        "print(f\"Recall: {recall_rf_selected:.4f}\")\n",
        "print(f\"F1 Score: {f1_rf_selected:.4f}\")\n",
        "\n",
        "\n"
      ],
      "metadata": {
        "colab": {
          "base_uri": "https://localhost:8080/"
        },
        "id": "vs_2_cw19OPc",
        "outputId": "77d3848e-a09d-41ec-e704-059a80799200"
      },
      "execution_count": 60,
      "outputs": [
        {
          "output_type": "stream",
          "name": "stdout",
          "text": [
            "\n",
            "Logistic Regression Model with Selected Features:\n",
            "Accuracy: 0.9662\n",
            "Precision: 0.9663\n",
            "Recall: 0.9662\n",
            "F1 Score: 0.9659\n",
            "\n",
            "Tuned Random Forest Classifier Model with Selected Features:\n",
            "Accuracy: 0.9925\n",
            "Precision: 0.9880\n",
            "Recall: 0.9925\n",
            "F1 Score: 0.9902\n"
          ]
        }
      ]
    },
    {
      "cell_type": "markdown",
      "source": [
        "The evaluation of the final models for earthquake severity classification indicates that the tuned Random Forest classifier outperforms the Logistic Regression model across all key performance metrics. While the Logistic Regression model demonstrates strong predictive capability with an accuracy of 96.62% and balanced precision (96.63%), recall (96.62%), and F1 score (96.59%), its linear nature may limit its ability to capture complex patterns within the data. In contrast, the tuned Random Forest model achieves significantly higher accuracy (99.25%) along with an F1 score of 99.02%, reflecting a more robust ability to distinguish between severity levels. Notably, its high recall (99.25%) suggests a lower likelihood of missing critical earthquake cases, which is essential in risk assessment and disaster response. Although the slight reduction in precision (98.80%) indicates a minor increase in false positives, the overall performance suggests superior generalization. However, given the high accuracy of the Random Forest model, the potential risk of overfitting should be carefully monitored through further validation on external datasets. Ultimately, while the Random Forest classifier emerges as the more effective model, Logistic Regression remains a viable alternative when interpretability and model transparency are of primary concern."
      ],
      "metadata": {
        "id": "4f9QozuYkxLi"
      }
    },
    {
      "cell_type": "markdown",
      "source": [
        "# **Conclusion**"
      ],
      "metadata": {
        "id": "VnY6VAfTljoo"
      }
    },
    {
      "cell_type": "markdown",
      "source": [
        "### **Discussion Summary**  \n",
        "\n",
        "The Random Forest Classifier outperformed the Logistic Regression model, achieving a higher accuracy (99.25%) and better handling complex patterns, including low-representative high-risk cases. In contrast, while Logistic Regression performed well (96.62% accuracy), it struggled with minority class predictions. However, the Random Forest model showed signs of overfitting, whereas Logistic Regression demonstrated better generalization.  \n",
        "\n",
        "Hyperparameter tuning and feature selection significantly improved performance. GridSearchCV and RandomizedSearchCV optimized both models, reducing overfitting while maintaining predictive power. Key predictors—Hazard (Intensity), Exposure, Poverty, and Severity Normalized—were identified, improving model generalization. The findings aligned with EDA, confirming that hazard intensity is the primary determinant of earthquake severity, with exposure and poverty as contributing factors.  \n",
        "\n",
        "Despite strong performance, limitations remain. The Random Forest model's overfitting suggests further tuning of max_depth and min_samples_leaf. Feature selection via SelectKBest may have overlooked key interactions, warranting exploration of Recursive Feature Elimination or PCA. The dataset’s limited size and simplistic imputation methods could introduce biases, requiring further refinement.  \n",
        "\n",
        "Future research should explore advanced models like XGBoost and LightGBM, expand datasets to include regional factors (e.g., soil type, population density), and incorporate domain-specific features like historical seismic data. Ensemble learning techniques, such as stacking, may further enhance model robustness and predictive accuracy."
      ],
      "metadata": {
        "id": "jJdgdJselkz2"
      }
    }
  ]
}